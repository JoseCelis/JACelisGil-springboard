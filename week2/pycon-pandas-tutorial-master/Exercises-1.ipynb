{
 "cells": [
  {
   "cell_type": "code",
   "execution_count": 1,
   "metadata": {
    "collapsed": false
   },
   "outputs": [],
   "source": [
    "%matplotlib inline\n",
    "import pandas as pd"
   ]
  },
  {
   "cell_type": "code",
   "execution_count": 2,
   "metadata": {
    "collapsed": false
   },
   "outputs": [
    {
     "data": {
      "text/html": [
       "<style>body {\n",
       "    margin: 0;\n",
       "    font-family: Helvetica;\n",
       "}\n",
       "table.dataframe {\n",
       "    border-collapse: collapse;\n",
       "    border: none;\n",
       "}\n",
       "table.dataframe tr {\n",
       "    border: none;\n",
       "}\n",
       "table.dataframe td, table.dataframe th {\n",
       "    margin: 0;\n",
       "    border: 1px solid white;\n",
       "    padding-left: 0.25em;\n",
       "    padding-right: 0.25em;\n",
       "}\n",
       "table.dataframe th:not(:empty) {\n",
       "    background-color: #fec;\n",
       "    text-align: left;\n",
       "    font-weight: normal;\n",
       "}\n",
       "table.dataframe tr:nth-child(2) th:empty {\n",
       "    border-left: none;\n",
       "    border-right: 1px dashed #888;\n",
       "}\n",
       "table.dataframe td {\n",
       "    border: 2px solid #ccf;\n",
       "    background-color: #f4f4ff;\n",
       "}\n",
       "h3 {\n",
       "    color: white;\n",
       "    background-color: black;\n",
       "    padding: 0.5em;\n",
       "}\n",
       "</style>"
      ],
      "text/plain": [
       "<IPython.core.display.HTML object>"
      ]
     },
     "execution_count": 2,
     "metadata": {},
     "output_type": "execute_result"
    }
   ],
   "source": [
    "from IPython.core.display import HTML\n",
    "css = open('style-table.css').read() + open('style-notebook.css').read()\n",
    "HTML('<style>{}</style>'.format(css))"
   ]
  },
  {
   "cell_type": "code",
   "execution_count": 5,
   "metadata": {
    "collapsed": false
   },
   "outputs": [
    {
     "data": {
      "text/html": [
       "<div>\n",
       "<table border=\"1\" class=\"dataframe\">\n",
       "  <thead>\n",
       "    <tr style=\"text-align: right;\">\n",
       "      <th></th>\n",
       "      <th>title</th>\n",
       "      <th>year</th>\n",
       "    </tr>\n",
       "  </thead>\n",
       "  <tbody>\n",
       "    <tr>\n",
       "      <th>0</th>\n",
       "      <td>The Rising Son</td>\n",
       "      <td>1990</td>\n",
       "    </tr>\n",
       "    <tr>\n",
       "      <th>1</th>\n",
       "      <td>The Thousand Plane Raid</td>\n",
       "      <td>1969</td>\n",
       "    </tr>\n",
       "    <tr>\n",
       "      <th>2</th>\n",
       "      <td>The Spider and the Fly</td>\n",
       "      <td>1949</td>\n",
       "    </tr>\n",
       "    <tr>\n",
       "      <th>3</th>\n",
       "      <td>Country</td>\n",
       "      <td>2000</td>\n",
       "    </tr>\n",
       "    <tr>\n",
       "      <th>4</th>\n",
       "      <td>Gai shi dao wang</td>\n",
       "      <td>1969</td>\n",
       "    </tr>\n",
       "  </tbody>\n",
       "</table>\n",
       "</div>"
      ],
      "text/plain": [
       "                     title  year\n",
       "0           The Rising Son  1990\n",
       "1  The Thousand Plane Raid  1969\n",
       "2   The Spider and the Fly  1949\n",
       "3                  Country  2000\n",
       "4         Gai shi dao wang  1969"
      ]
     },
     "execution_count": 5,
     "metadata": {},
     "output_type": "execute_result"
    }
   ],
   "source": [
    "titles = pd.DataFrame.from_csv('data/titles.csv', index_col=None, encoding=\"utf-8\")\n",
    "titles.head()"
   ]
  },
  {
   "cell_type": "code",
   "execution_count": 6,
   "metadata": {
    "collapsed": false,
    "scrolled": true
   },
   "outputs": [
    {
     "data": {
      "text/html": [
       "<div>\n",
       "<table border=\"1\" class=\"dataframe\">\n",
       "  <thead>\n",
       "    <tr style=\"text-align: right;\">\n",
       "      <th></th>\n",
       "      <th>title</th>\n",
       "      <th>year</th>\n",
       "      <th>name</th>\n",
       "      <th>type</th>\n",
       "      <th>character</th>\n",
       "      <th>n</th>\n",
       "    </tr>\n",
       "  </thead>\n",
       "  <tbody>\n",
       "    <tr>\n",
       "      <th>0</th>\n",
       "      <td>Closet Monster</td>\n",
       "      <td>2015</td>\n",
       "      <td>Buffy #1</td>\n",
       "      <td>actor</td>\n",
       "      <td>Buffy 4</td>\n",
       "      <td>31.0</td>\n",
       "    </tr>\n",
       "    <tr>\n",
       "      <th>1</th>\n",
       "      <td>Suuri illusioni</td>\n",
       "      <td>1985</td>\n",
       "      <td>Homo $</td>\n",
       "      <td>actor</td>\n",
       "      <td>Guests</td>\n",
       "      <td>22.0</td>\n",
       "    </tr>\n",
       "    <tr>\n",
       "      <th>2</th>\n",
       "      <td>Battle of the Sexes</td>\n",
       "      <td>2017</td>\n",
       "      <td>$hutter</td>\n",
       "      <td>actor</td>\n",
       "      <td>Bobby Riggs Fan</td>\n",
       "      <td>10.0</td>\n",
       "    </tr>\n",
       "    <tr>\n",
       "      <th>3</th>\n",
       "      <td>Secret in Their Eyes</td>\n",
       "      <td>2015</td>\n",
       "      <td>$hutter</td>\n",
       "      <td>actor</td>\n",
       "      <td>2002 Dodger Fan</td>\n",
       "      <td>NaN</td>\n",
       "    </tr>\n",
       "    <tr>\n",
       "      <th>4</th>\n",
       "      <td>Steve Jobs</td>\n",
       "      <td>2015</td>\n",
       "      <td>$hutter</td>\n",
       "      <td>actor</td>\n",
       "      <td>1988 Opera House Patron</td>\n",
       "      <td>NaN</td>\n",
       "    </tr>\n",
       "  </tbody>\n",
       "</table>\n",
       "</div>"
      ],
      "text/plain": [
       "                  title  year      name   type                character     n\n",
       "0        Closet Monster  2015  Buffy #1  actor                  Buffy 4  31.0\n",
       "1       Suuri illusioni  1985    Homo $  actor                   Guests  22.0\n",
       "2   Battle of the Sexes  2017   $hutter  actor          Bobby Riggs Fan  10.0\n",
       "3  Secret in Their Eyes  2015   $hutter  actor          2002 Dodger Fan   NaN\n",
       "4            Steve Jobs  2015   $hutter  actor  1988 Opera House Patron   NaN"
      ]
     },
     "execution_count": 6,
     "metadata": {},
     "output_type": "execute_result"
    }
   ],
   "source": [
    "cast = pd.DataFrame.from_csv('data/cast.csv', index_col=None)\n",
    "cast.head()"
   ]
  },
  {
   "cell_type": "markdown",
   "metadata": {
    "collapsed": true
   },
   "source": [
    "### How many movies are listed in the titles dataframe?"
   ]
  },
  {
   "cell_type": "code",
   "execution_count": 62,
   "metadata": {
    "collapsed": false
   },
   "outputs": [
    {
     "data": {
      "text/plain": [
       "238041"
      ]
     },
     "execution_count": 62,
     "metadata": {},
     "output_type": "execute_result"
    }
   ],
   "source": [
    "len(titles)"
   ]
  },
  {
   "cell_type": "code",
   "execution_count": null,
   "metadata": {
    "collapsed": true
   },
   "outputs": [],
   "source": []
  },
  {
   "cell_type": "markdown",
   "metadata": {
    "collapsed": true
   },
   "source": [
    "### What are the earliest two films listed in the titles dataframe?"
   ]
  },
  {
   "cell_type": "code",
   "execution_count": 67,
   "metadata": {
    "collapsed": false
   },
   "outputs": [
    {
     "data": {
      "text/html": [
       "<div>\n",
       "<table border=\"1\" class=\"dataframe\">\n",
       "  <thead>\n",
       "    <tr style=\"text-align: right;\">\n",
       "      <th></th>\n",
       "      <th>title</th>\n",
       "      <th>year</th>\n",
       "    </tr>\n",
       "  </thead>\n",
       "  <tbody>\n",
       "    <tr>\n",
       "      <th>182066</th>\n",
       "      <td>Miss Jerry</td>\n",
       "      <td>1894</td>\n",
       "    </tr>\n",
       "    <tr>\n",
       "      <th>220473</th>\n",
       "      <td>The Startled Lover</td>\n",
       "      <td>1898</td>\n",
       "    </tr>\n",
       "  </tbody>\n",
       "</table>\n",
       "</div>"
      ],
      "text/plain": [
       "                     title  year\n",
       "182066          Miss Jerry  1894\n",
       "220473  The Startled Lover  1898"
      ]
     },
     "execution_count": 67,
     "metadata": {},
     "output_type": "execute_result"
    }
   ],
   "source": [
    "titles.sort_values(\"year\").head(2)"
   ]
  },
  {
   "cell_type": "code",
   "execution_count": null,
   "metadata": {
    "collapsed": true
   },
   "outputs": [],
   "source": []
  },
  {
   "cell_type": "markdown",
   "metadata": {
    "collapsed": true
   },
   "source": [
    "### How many movies have the title \"Hamlet\"?"
   ]
  },
  {
   "cell_type": "code",
   "execution_count": 69,
   "metadata": {
    "collapsed": false
   },
   "outputs": [
    {
     "data": {
      "text/plain": [
       "20"
      ]
     },
     "execution_count": 69,
     "metadata": {},
     "output_type": "execute_result"
    }
   ],
   "source": [
    "len(titles[titles.title==\"Hamlet\"])"
   ]
  },
  {
   "cell_type": "code",
   "execution_count": null,
   "metadata": {
    "collapsed": true
   },
   "outputs": [],
   "source": []
  },
  {
   "cell_type": "markdown",
   "metadata": {
    "collapsed": true
   },
   "source": [
    "### How many movies are titled \"North by Northwest\"?"
   ]
  },
  {
   "cell_type": "code",
   "execution_count": 71,
   "metadata": {
    "collapsed": false
   },
   "outputs": [
    {
     "data": {
      "text/plain": [
       "1"
      ]
     },
     "execution_count": 71,
     "metadata": {},
     "output_type": "execute_result"
    }
   ],
   "source": [
    "len(titles[titles.title==\"North by Northwest\"])"
   ]
  },
  {
   "cell_type": "code",
   "execution_count": null,
   "metadata": {
    "collapsed": true
   },
   "outputs": [],
   "source": []
  },
  {
   "cell_type": "markdown",
   "metadata": {
    "collapsed": true
   },
   "source": [
    "### When was the first movie titled \"Hamlet\" made?"
   ]
  },
  {
   "cell_type": "code",
   "execution_count": 74,
   "metadata": {
    "collapsed": false
   },
   "outputs": [
    {
     "data": {
      "text/html": [
       "<div>\n",
       "<table border=\"1\" class=\"dataframe\">\n",
       "  <thead>\n",
       "    <tr style=\"text-align: right;\">\n",
       "      <th></th>\n",
       "      <th>title</th>\n",
       "      <th>year</th>\n",
       "    </tr>\n",
       "  </thead>\n",
       "  <tbody>\n",
       "    <tr>\n",
       "      <th>47939</th>\n",
       "      <td>Hamlet</td>\n",
       "      <td>1910</td>\n",
       "    </tr>\n",
       "  </tbody>\n",
       "</table>\n",
       "</div>"
      ],
      "text/plain": [
       "        title  year\n",
       "47939  Hamlet  1910"
      ]
     },
     "execution_count": 74,
     "metadata": {},
     "output_type": "execute_result"
    }
   ],
   "source": [
    "titles[titles.title==\"Hamlet\"].sort_values(\"year\").head(1)"
   ]
  },
  {
   "cell_type": "code",
   "execution_count": null,
   "metadata": {
    "collapsed": true
   },
   "outputs": [],
   "source": []
  },
  {
   "cell_type": "markdown",
   "metadata": {
    "collapsed": true
   },
   "source": [
    "### List all of the \"Treasure Island\" movies from earliest to most recent."
   ]
  },
  {
   "cell_type": "code",
   "execution_count": 76,
   "metadata": {
    "collapsed": false
   },
   "outputs": [
    {
     "data": {
      "text/html": [
       "<div>\n",
       "<table border=\"1\" class=\"dataframe\">\n",
       "  <thead>\n",
       "    <tr style=\"text-align: right;\">\n",
       "      <th></th>\n",
       "      <th>title</th>\n",
       "      <th>year</th>\n",
       "    </tr>\n",
       "  </thead>\n",
       "  <tbody>\n",
       "    <tr>\n",
       "      <th>211013</th>\n",
       "      <td>Treasure Island</td>\n",
       "      <td>1918</td>\n",
       "    </tr>\n",
       "    <tr>\n",
       "      <th>52596</th>\n",
       "      <td>Treasure Island</td>\n",
       "      <td>1920</td>\n",
       "    </tr>\n",
       "    <tr>\n",
       "      <th>195659</th>\n",
       "      <td>Treasure Island</td>\n",
       "      <td>1934</td>\n",
       "    </tr>\n",
       "    <tr>\n",
       "      <th>99262</th>\n",
       "      <td>Treasure Island</td>\n",
       "      <td>1950</td>\n",
       "    </tr>\n",
       "    <tr>\n",
       "      <th>79126</th>\n",
       "      <td>Treasure Island</td>\n",
       "      <td>1972</td>\n",
       "    </tr>\n",
       "    <tr>\n",
       "      <th>114105</th>\n",
       "      <td>Treasure Island</td>\n",
       "      <td>1973</td>\n",
       "    </tr>\n",
       "    <tr>\n",
       "      <th>210364</th>\n",
       "      <td>Treasure Island</td>\n",
       "      <td>1985</td>\n",
       "    </tr>\n",
       "    <tr>\n",
       "      <th>183703</th>\n",
       "      <td>Treasure Island</td>\n",
       "      <td>1999</td>\n",
       "    </tr>\n",
       "  </tbody>\n",
       "</table>\n",
       "</div>"
      ],
      "text/plain": [
       "                  title  year\n",
       "211013  Treasure Island  1918\n",
       "52596   Treasure Island  1920\n",
       "195659  Treasure Island  1934\n",
       "99262   Treasure Island  1950\n",
       "79126   Treasure Island  1972\n",
       "114105  Treasure Island  1973\n",
       "210364  Treasure Island  1985\n",
       "183703  Treasure Island  1999"
      ]
     },
     "execution_count": 76,
     "metadata": {},
     "output_type": "execute_result"
    }
   ],
   "source": [
    "titles[titles.title==\"Treasure Island\"].sort_values(\"year\")"
   ]
  },
  {
   "cell_type": "code",
   "execution_count": null,
   "metadata": {
    "collapsed": true
   },
   "outputs": [],
   "source": []
  },
  {
   "cell_type": "markdown",
   "metadata": {
    "collapsed": true
   },
   "source": [
    "### How many movies were made in the year 1950?"
   ]
  },
  {
   "cell_type": "code",
   "execution_count": 82,
   "metadata": {
    "collapsed": false
   },
   "outputs": [
    {
     "data": {
      "text/plain": [
       "1111"
      ]
     },
     "execution_count": 82,
     "metadata": {},
     "output_type": "execute_result"
    }
   ],
   "source": [
    "len(titles[titles.year==1950])"
   ]
  },
  {
   "cell_type": "code",
   "execution_count": null,
   "metadata": {
    "collapsed": true
   },
   "outputs": [],
   "source": []
  },
  {
   "cell_type": "markdown",
   "metadata": {
    "collapsed": true
   },
   "source": [
    "### How many movies were made in the year 1960?"
   ]
  },
  {
   "cell_type": "code",
   "execution_count": 83,
   "metadata": {
    "collapsed": false
   },
   "outputs": [
    {
     "data": {
      "text/plain": [
       "1538"
      ]
     },
     "execution_count": 83,
     "metadata": {},
     "output_type": "execute_result"
    }
   ],
   "source": [
    "len(titles[titles.year==1960])"
   ]
  },
  {
   "cell_type": "code",
   "execution_count": null,
   "metadata": {
    "collapsed": true
   },
   "outputs": [],
   "source": []
  },
  {
   "cell_type": "markdown",
   "metadata": {
    "collapsed": true
   },
   "source": [
    "### How many movies were made from 1950 through 1959?"
   ]
  },
  {
   "cell_type": "code",
   "execution_count": 85,
   "metadata": {
    "collapsed": false
   },
   "outputs": [
    {
     "data": {
      "text/plain": [
       "12876"
      ]
     },
     "execution_count": 85,
     "metadata": {},
     "output_type": "execute_result"
    }
   ],
   "source": [
    "len(titles[(titles.year>=1950) & (titles.year<=1959)] )"
   ]
  },
  {
   "cell_type": "code",
   "execution_count": null,
   "metadata": {
    "collapsed": true
   },
   "outputs": [],
   "source": []
  },
  {
   "cell_type": "markdown",
   "metadata": {
    "collapsed": true
   },
   "source": [
    "### In what years has a movie titled \"Batman\" been released?"
   ]
  },
  {
   "cell_type": "code",
   "execution_count": 86,
   "metadata": {
    "collapsed": false
   },
   "outputs": [
    {
     "data": {
      "text/html": [
       "<div>\n",
       "<table border=\"1\" class=\"dataframe\">\n",
       "  <thead>\n",
       "    <tr style=\"text-align: right;\">\n",
       "      <th></th>\n",
       "      <th>title</th>\n",
       "      <th>year</th>\n",
       "    </tr>\n",
       "  </thead>\n",
       "  <tbody>\n",
       "    <tr>\n",
       "      <th>57435</th>\n",
       "      <td>Batman</td>\n",
       "      <td>1989</td>\n",
       "    </tr>\n",
       "    <tr>\n",
       "      <th>76428</th>\n",
       "      <td>Batman</td>\n",
       "      <td>1943</td>\n",
       "    </tr>\n",
       "  </tbody>\n",
       "</table>\n",
       "</div>"
      ],
      "text/plain": [
       "        title  year\n",
       "57435  Batman  1989\n",
       "76428  Batman  1943"
      ]
     },
     "execution_count": 86,
     "metadata": {},
     "output_type": "execute_result"
    }
   ],
   "source": [
    "titles[titles.title==\"Batman\"]"
   ]
  },
  {
   "cell_type": "code",
   "execution_count": null,
   "metadata": {
    "collapsed": false
   },
   "outputs": [],
   "source": []
  },
  {
   "cell_type": "markdown",
   "metadata": {
    "collapsed": true
   },
   "source": [
    "### How many roles were there in the movie \"Inception\"?"
   ]
  },
  {
   "cell_type": "code",
   "execution_count": 89,
   "metadata": {
    "collapsed": false
   },
   "outputs": [
    {
     "data": {
      "text/plain": [
       "78"
      ]
     },
     "execution_count": 89,
     "metadata": {},
     "output_type": "execute_result"
    }
   ],
   "source": [
    "len(cast[cast.title==\"Inception\"])"
   ]
  },
  {
   "cell_type": "code",
   "execution_count": null,
   "metadata": {
    "collapsed": true
   },
   "outputs": [],
   "source": []
  },
  {
   "cell_type": "markdown",
   "metadata": {
    "collapsed": true
   },
   "source": [
    "### How many roles in the movie \"Inception\" are NOT ranked by an \"n\" value?"
   ]
  },
  {
   "cell_type": "code",
   "execution_count": 91,
   "metadata": {
    "collapsed": false
   },
   "outputs": [],
   "source": [
    "a=(cast[cast.title==\"Inception\"])"
   ]
  },
  {
   "cell_type": "code",
   "execution_count": 108,
   "metadata": {
    "collapsed": false
   },
   "outputs": [
    {
     "data": {
      "text/plain": [
       "27"
      ]
     },
     "execution_count": 108,
     "metadata": {},
     "output_type": "execute_result"
    }
   ],
   "source": [
    "len(a[a.n.notnull()==False])"
   ]
  },
  {
   "cell_type": "markdown",
   "metadata": {
    "collapsed": true
   },
   "source": [
    "### But how many roles in the movie \"Inception\" did receive an \"n\" value?"
   ]
  },
  {
   "cell_type": "code",
   "execution_count": 109,
   "metadata": {
    "collapsed": false
   },
   "outputs": [
    {
     "data": {
      "text/plain": [
       "51"
      ]
     },
     "execution_count": 109,
     "metadata": {},
     "output_type": "execute_result"
    }
   ],
   "source": [
    "len(a[a.n.notnull()])"
   ]
  },
  {
   "cell_type": "code",
   "execution_count": null,
   "metadata": {
    "collapsed": true
   },
   "outputs": [],
   "source": []
  },
  {
   "cell_type": "markdown",
   "metadata": {
    "collapsed": true
   },
   "source": [
    "### Display the cast of \"North by Northwest\" in their correct \"n\"-value order, ignoring roles that did not earn a numeric \"n\" value."
   ]
  },
  {
   "cell_type": "code",
   "execution_count": 113,
   "metadata": {
    "collapsed": false
   },
   "outputs": [],
   "source": [
    "a=cast[cast.title==\"North by Northwest\"]"
   ]
  },
  {
   "cell_type": "code",
   "execution_count": 115,
   "metadata": {
    "collapsed": false
   },
   "outputs": [
    {
     "data": {
      "text/html": [
       "<div>\n",
       "<table border=\"1\" class=\"dataframe\">\n",
       "  <thead>\n",
       "    <tr style=\"text-align: right;\">\n",
       "      <th></th>\n",
       "      <th>title</th>\n",
       "      <th>year</th>\n",
       "      <th>name</th>\n",
       "      <th>type</th>\n",
       "      <th>character</th>\n",
       "      <th>n</th>\n",
       "    </tr>\n",
       "  </thead>\n",
       "  <tbody>\n",
       "    <tr>\n",
       "      <th>871457</th>\n",
       "      <td>North by Northwest</td>\n",
       "      <td>1959</td>\n",
       "      <td>Cary Grant</td>\n",
       "      <td>actor</td>\n",
       "      <td>Roger O. Thornhill</td>\n",
       "      <td>1.0</td>\n",
       "    </tr>\n",
       "    <tr>\n",
       "      <th>3491247</th>\n",
       "      <td>North by Northwest</td>\n",
       "      <td>1959</td>\n",
       "      <td>Eva Marie Saint</td>\n",
       "      <td>actress</td>\n",
       "      <td>Eve Kendall</td>\n",
       "      <td>2.0</td>\n",
       "    </tr>\n",
       "    <tr>\n",
       "      <th>1456840</th>\n",
       "      <td>North by Northwest</td>\n",
       "      <td>1959</td>\n",
       "      <td>James Mason</td>\n",
       "      <td>actor</td>\n",
       "      <td>Phillip Vandamm</td>\n",
       "      <td>3.0</td>\n",
       "    </tr>\n",
       "    <tr>\n",
       "      <th>3140004</th>\n",
       "      <td>North by Northwest</td>\n",
       "      <td>1959</td>\n",
       "      <td>Jessie Royce Landis</td>\n",
       "      <td>actress</td>\n",
       "      <td>Clara Thornhill</td>\n",
       "      <td>4.0</td>\n",
       "    </tr>\n",
       "    <tr>\n",
       "      <th>356803</th>\n",
       "      <td>North by Northwest</td>\n",
       "      <td>1959</td>\n",
       "      <td>Leo G. Carroll</td>\n",
       "      <td>actor</td>\n",
       "      <td>The Professor</td>\n",
       "      <td>5.0</td>\n",
       "    </tr>\n",
       "    <tr>\n",
       "      <th>3034443</th>\n",
       "      <td>North by Northwest</td>\n",
       "      <td>1959</td>\n",
       "      <td>Josephine Hutchinson</td>\n",
       "      <td>actress</td>\n",
       "      <td>Mrs. Townsend</td>\n",
       "      <td>6.0</td>\n",
       "    </tr>\n",
       "    <tr>\n",
       "      <th>1694936</th>\n",
       "      <td>North by Northwest</td>\n",
       "      <td>1959</td>\n",
       "      <td>Philip Ober</td>\n",
       "      <td>actor</td>\n",
       "      <td>Lester Townsend</td>\n",
       "      <td>7.0</td>\n",
       "    </tr>\n",
       "    <tr>\n",
       "      <th>1274903</th>\n",
       "      <td>North by Northwest</td>\n",
       "      <td>1959</td>\n",
       "      <td>Martin Landau</td>\n",
       "      <td>actor</td>\n",
       "      <td>Leonard</td>\n",
       "      <td>8.0</td>\n",
       "    </tr>\n",
       "    <tr>\n",
       "      <th>2446781</th>\n",
       "      <td>North by Northwest</td>\n",
       "      <td>1959</td>\n",
       "      <td>Adam Williams</td>\n",
       "      <td>actor</td>\n",
       "      <td>Valerian</td>\n",
       "      <td>9.0</td>\n",
       "    </tr>\n",
       "    <tr>\n",
       "      <th>1811016</th>\n",
       "      <td>North by Northwest</td>\n",
       "      <td>1959</td>\n",
       "      <td>Edward Platt</td>\n",
       "      <td>actor</td>\n",
       "      <td>Victor Larrabee</td>\n",
       "      <td>10.0</td>\n",
       "    </tr>\n",
       "    <tr>\n",
       "      <th>665817</th>\n",
       "      <td>North by Northwest</td>\n",
       "      <td>1959</td>\n",
       "      <td>Robert Ellenstein</td>\n",
       "      <td>actor</td>\n",
       "      <td>Licht</td>\n",
       "      <td>11.0</td>\n",
       "    </tr>\n",
       "    <tr>\n",
       "      <th>2295413</th>\n",
       "      <td>North by Northwest</td>\n",
       "      <td>1959</td>\n",
       "      <td>Les Tremayne</td>\n",
       "      <td>actor</td>\n",
       "      <td>Auctioneer</td>\n",
       "      <td>12.0</td>\n",
       "    </tr>\n",
       "    <tr>\n",
       "      <th>464765</th>\n",
       "      <td>North by Northwest</td>\n",
       "      <td>1959</td>\n",
       "      <td>Philip Coolidge</td>\n",
       "      <td>actor</td>\n",
       "      <td>Dr. Cross</td>\n",
       "      <td>13.0</td>\n",
       "    </tr>\n",
       "    <tr>\n",
       "      <th>1508147</th>\n",
       "      <td>North by Northwest</td>\n",
       "      <td>1959</td>\n",
       "      <td>Patrick McVey</td>\n",
       "      <td>actor</td>\n",
       "      <td>Sergeant Flamm</td>\n",
       "      <td>14.0</td>\n",
       "    </tr>\n",
       "    <tr>\n",
       "      <th>206425</th>\n",
       "      <td>North by Northwest</td>\n",
       "      <td>1959</td>\n",
       "      <td>Edward Binns</td>\n",
       "      <td>actor</td>\n",
       "      <td>Captain Junket</td>\n",
       "      <td>15.0</td>\n",
       "    </tr>\n",
       "    <tr>\n",
       "      <th>1384355</th>\n",
       "      <td>North by Northwest</td>\n",
       "      <td>1959</td>\n",
       "      <td>Ken Lynch</td>\n",
       "      <td>actor</td>\n",
       "      <td>Charley - Chicago Policeman</td>\n",
       "      <td>16.0</td>\n",
       "    </tr>\n",
       "  </tbody>\n",
       "</table>\n",
       "</div>"
      ],
      "text/plain": [
       "                      title  year                  name     type  \\\n",
       "871457   North by Northwest  1959            Cary Grant    actor   \n",
       "3491247  North by Northwest  1959       Eva Marie Saint  actress   \n",
       "1456840  North by Northwest  1959           James Mason    actor   \n",
       "3140004  North by Northwest  1959   Jessie Royce Landis  actress   \n",
       "356803   North by Northwest  1959        Leo G. Carroll    actor   \n",
       "3034443  North by Northwest  1959  Josephine Hutchinson  actress   \n",
       "1694936  North by Northwest  1959           Philip Ober    actor   \n",
       "1274903  North by Northwest  1959         Martin Landau    actor   \n",
       "2446781  North by Northwest  1959         Adam Williams    actor   \n",
       "1811016  North by Northwest  1959          Edward Platt    actor   \n",
       "665817   North by Northwest  1959     Robert Ellenstein    actor   \n",
       "2295413  North by Northwest  1959          Les Tremayne    actor   \n",
       "464765   North by Northwest  1959       Philip Coolidge    actor   \n",
       "1508147  North by Northwest  1959         Patrick McVey    actor   \n",
       "206425   North by Northwest  1959          Edward Binns    actor   \n",
       "1384355  North by Northwest  1959             Ken Lynch    actor   \n",
       "\n",
       "                           character     n  \n",
       "871457            Roger O. Thornhill   1.0  \n",
       "3491247                  Eve Kendall   2.0  \n",
       "1456840              Phillip Vandamm   3.0  \n",
       "3140004              Clara Thornhill   4.0  \n",
       "356803                 The Professor   5.0  \n",
       "3034443                Mrs. Townsend   6.0  \n",
       "1694936              Lester Townsend   7.0  \n",
       "1274903                      Leonard   8.0  \n",
       "2446781                     Valerian   9.0  \n",
       "1811016              Victor Larrabee  10.0  \n",
       "665817                         Licht  11.0  \n",
       "2295413                   Auctioneer  12.0  \n",
       "464765                     Dr. Cross  13.0  \n",
       "1508147               Sergeant Flamm  14.0  \n",
       "206425                Captain Junket  15.0  \n",
       "1384355  Charley - Chicago Policeman  16.0  "
      ]
     },
     "execution_count": 115,
     "metadata": {},
     "output_type": "execute_result"
    }
   ],
   "source": [
    "a[a.n.notnull()].sort_values(\"n\")"
   ]
  },
  {
   "cell_type": "markdown",
   "metadata": {
    "collapsed": true
   },
   "source": [
    "### Display the entire cast, in \"n\"-order, of the 1972 film \"Sleuth\"."
   ]
  },
  {
   "cell_type": "code",
   "execution_count": 120,
   "metadata": {
    "collapsed": false
   },
   "outputs": [
    {
     "data": {
      "text/html": [
       "<div>\n",
       "<table border=\"1\" class=\"dataframe\">\n",
       "  <thead>\n",
       "    <tr style=\"text-align: right;\">\n",
       "      <th></th>\n",
       "      <th>title</th>\n",
       "      <th>year</th>\n",
       "      <th>name</th>\n",
       "      <th>type</th>\n",
       "      <th>character</th>\n",
       "      <th>n</th>\n",
       "    </tr>\n",
       "  </thead>\n",
       "  <tbody>\n",
       "    <tr>\n",
       "      <th>1705102</th>\n",
       "      <td>Sleuth</td>\n",
       "      <td>1972</td>\n",
       "      <td>Laurence Olivier</td>\n",
       "      <td>actor</td>\n",
       "      <td>Andrew Wyke</td>\n",
       "      <td>1.0</td>\n",
       "    </tr>\n",
       "    <tr>\n",
       "      <th>326821</th>\n",
       "      <td>Sleuth</td>\n",
       "      <td>1972</td>\n",
       "      <td>Michael Caine</td>\n",
       "      <td>actor</td>\n",
       "      <td>Milo Tindle</td>\n",
       "      <td>2.0</td>\n",
       "    </tr>\n",
       "    <tr>\n",
       "      <th>374018</th>\n",
       "      <td>Sleuth</td>\n",
       "      <td>1972</td>\n",
       "      <td>Alec Cawthorne</td>\n",
       "      <td>actor</td>\n",
       "      <td>Inspector Doppler</td>\n",
       "      <td>3.0</td>\n",
       "    </tr>\n",
       "    <tr>\n",
       "      <th>1465124</th>\n",
       "      <td>Sleuth</td>\n",
       "      <td>1972</td>\n",
       "      <td>John (II) Matthews</td>\n",
       "      <td>actor</td>\n",
       "      <td>Detective Sergeant Tarrant</td>\n",
       "      <td>4.0</td>\n",
       "    </tr>\n",
       "    <tr>\n",
       "      <th>2718930</th>\n",
       "      <td>Sleuth</td>\n",
       "      <td>1972</td>\n",
       "      <td>Eve (III) Channing</td>\n",
       "      <td>actress</td>\n",
       "      <td>Marguerite Wyke</td>\n",
       "      <td>5.0</td>\n",
       "    </tr>\n",
       "    <tr>\n",
       "      <th>1448367</th>\n",
       "      <td>Sleuth</td>\n",
       "      <td>1972</td>\n",
       "      <td>Teddy Martin</td>\n",
       "      <td>actor</td>\n",
       "      <td>Police Constable Higgs</td>\n",
       "      <td>6.0</td>\n",
       "    </tr>\n",
       "  </tbody>\n",
       "</table>\n",
       "</div>"
      ],
      "text/plain": [
       "          title  year                name     type  \\\n",
       "1705102  Sleuth  1972    Laurence Olivier    actor   \n",
       "326821   Sleuth  1972       Michael Caine    actor   \n",
       "374018   Sleuth  1972      Alec Cawthorne    actor   \n",
       "1465124  Sleuth  1972  John (II) Matthews    actor   \n",
       "2718930  Sleuth  1972  Eve (III) Channing  actress   \n",
       "1448367  Sleuth  1972        Teddy Martin    actor   \n",
       "\n",
       "                          character    n  \n",
       "1705102                 Andrew Wyke  1.0  \n",
       "326821                  Milo Tindle  2.0  \n",
       "374018            Inspector Doppler  3.0  \n",
       "1465124  Detective Sergeant Tarrant  4.0  \n",
       "2718930             Marguerite Wyke  5.0  \n",
       "1448367      Police Constable Higgs  6.0  "
      ]
     },
     "execution_count": 120,
     "metadata": {},
     "output_type": "execute_result"
    }
   ],
   "source": [
    "cast[(cast.title==\"Sleuth\") & (cast.year == 1972)].sort_values(\"n\")"
   ]
  },
  {
   "cell_type": "code",
   "execution_count": null,
   "metadata": {
    "collapsed": true
   },
   "outputs": [],
   "source": []
  },
  {
   "cell_type": "markdown",
   "metadata": {
    "collapsed": true
   },
   "source": [
    "### Now display the entire cast, in \"n\"-order, of the 2007 version of \"Sleuth\"."
   ]
  },
  {
   "cell_type": "code",
   "execution_count": 123,
   "metadata": {
    "collapsed": false
   },
   "outputs": [
    {
     "data": {
      "text/html": [
       "<div>\n",
       "<table border=\"1\" class=\"dataframe\">\n",
       "  <thead>\n",
       "    <tr style=\"text-align: right;\">\n",
       "      <th></th>\n",
       "      <th>title</th>\n",
       "      <th>year</th>\n",
       "      <th>name</th>\n",
       "      <th>type</th>\n",
       "      <th>character</th>\n",
       "      <th>n</th>\n",
       "    </tr>\n",
       "  </thead>\n",
       "  <tbody>\n",
       "    <tr>\n",
       "      <th>326822</th>\n",
       "      <td>Sleuth</td>\n",
       "      <td>2007</td>\n",
       "      <td>Michael Caine</td>\n",
       "      <td>actor</td>\n",
       "      <td>Andrew</td>\n",
       "      <td>1.0</td>\n",
       "    </tr>\n",
       "    <tr>\n",
       "      <th>1293194</th>\n",
       "      <td>Sleuth</td>\n",
       "      <td>2007</td>\n",
       "      <td>Jude Law</td>\n",
       "      <td>actor</td>\n",
       "      <td>Milo</td>\n",
       "      <td>2.0</td>\n",
       "    </tr>\n",
       "    <tr>\n",
       "      <th>1805546</th>\n",
       "      <td>Sleuth</td>\n",
       "      <td>2007</td>\n",
       "      <td>Harold Pinter</td>\n",
       "      <td>actor</td>\n",
       "      <td>Man on T.V.</td>\n",
       "      <td>3.0</td>\n",
       "    </tr>\n",
       "  </tbody>\n",
       "</table>\n",
       "</div>"
      ],
      "text/plain": [
       "          title  year           name   type    character    n\n",
       "326822   Sleuth  2007  Michael Caine  actor       Andrew  1.0\n",
       "1293194  Sleuth  2007       Jude Law  actor         Milo  2.0\n",
       "1805546  Sleuth  2007  Harold Pinter  actor  Man on T.V.  3.0"
      ]
     },
     "execution_count": 123,
     "metadata": {},
     "output_type": "execute_result"
    }
   ],
   "source": [
    "cast[(cast.title==\"Sleuth\") & (cast.year == 2007) & (cast.n.notnull())].sort_values(\"n\")"
   ]
  },
  {
   "cell_type": "code",
   "execution_count": null,
   "metadata": {
    "collapsed": true
   },
   "outputs": [],
   "source": []
  },
  {
   "cell_type": "markdown",
   "metadata": {
    "collapsed": true
   },
   "source": [
    "### How many roles were credited in the silent 1921 version of Hamlet?"
   ]
  },
  {
   "cell_type": "code",
   "execution_count": 125,
   "metadata": {
    "collapsed": false
   },
   "outputs": [
    {
     "data": {
      "text/plain": [
       "9"
      ]
     },
     "execution_count": 125,
     "metadata": {},
     "output_type": "execute_result"
    }
   ],
   "source": [
    "len(cast[(cast.title==\"Hamlet\") & (cast.year == 1921) & (cast.n.notnull())])"
   ]
  },
  {
   "cell_type": "code",
   "execution_count": null,
   "metadata": {
    "collapsed": true
   },
   "outputs": [],
   "source": []
  },
  {
   "cell_type": "markdown",
   "metadata": {
    "collapsed": true
   },
   "source": [
    "### How many roles were credited in Branagh’s 1996 Hamlet?"
   ]
  },
  {
   "cell_type": "code",
   "execution_count": 126,
   "metadata": {
    "collapsed": false
   },
   "outputs": [
    {
     "data": {
      "text/plain": [
       "46"
      ]
     },
     "execution_count": 126,
     "metadata": {},
     "output_type": "execute_result"
    }
   ],
   "source": [
    "len(cast[(cast.title==\"Hamlet\") & (cast.year == 1996) & (cast.n.notnull())])"
   ]
  },
  {
   "cell_type": "code",
   "execution_count": null,
   "metadata": {
    "collapsed": true
   },
   "outputs": [],
   "source": []
  },
  {
   "cell_type": "markdown",
   "metadata": {
    "collapsed": true
   },
   "source": [
    "### How many \"Hamlet\" roles have been listed in all film credits through history?"
   ]
  },
  {
   "cell_type": "code",
   "execution_count": 128,
   "metadata": {
    "collapsed": false
   },
   "outputs": [
    {
     "data": {
      "text/plain": [
       "342"
      ]
     },
     "execution_count": 128,
     "metadata": {},
     "output_type": "execute_result"
    }
   ],
   "source": [
    "len(cast[(cast.title==\"Hamlet\") ])"
   ]
  },
  {
   "cell_type": "code",
   "execution_count": null,
   "metadata": {
    "collapsed": true
   },
   "outputs": [],
   "source": []
  },
  {
   "cell_type": "markdown",
   "metadata": {
    "collapsed": true
   },
   "source": [
    "### How many people have played an \"Ophelia\"?"
   ]
  },
  {
   "cell_type": "code",
   "execution_count": 129,
   "metadata": {
    "collapsed": false
   },
   "outputs": [
    {
     "data": {
      "text/plain": [
       "113"
      ]
     },
     "execution_count": 129,
     "metadata": {},
     "output_type": "execute_result"
    }
   ],
   "source": [
    "len(cast[(cast.character==\"Ophelia\") ])"
   ]
  },
  {
   "cell_type": "code",
   "execution_count": null,
   "metadata": {
    "collapsed": true
   },
   "outputs": [],
   "source": []
  },
  {
   "cell_type": "markdown",
   "metadata": {
    "collapsed": true
   },
   "source": [
    "### How many people have played a role called \"The Dude\"?"
   ]
  },
  {
   "cell_type": "code",
   "execution_count": 130,
   "metadata": {
    "collapsed": false
   },
   "outputs": [
    {
     "data": {
      "text/plain": [
       "19"
      ]
     },
     "execution_count": 130,
     "metadata": {},
     "output_type": "execute_result"
    }
   ],
   "source": [
    "len(cast[(cast.character==\"The Dude\") ])"
   ]
  },
  {
   "cell_type": "code",
   "execution_count": null,
   "metadata": {
    "collapsed": true
   },
   "outputs": [],
   "source": []
  },
  {
   "cell_type": "markdown",
   "metadata": {
    "collapsed": true
   },
   "source": [
    "### How many people have played a role called \"The Stranger\"?"
   ]
  },
  {
   "cell_type": "code",
   "execution_count": 131,
   "metadata": {
    "collapsed": false
   },
   "outputs": [
    {
     "data": {
      "text/plain": [
       "214"
      ]
     },
     "execution_count": 131,
     "metadata": {},
     "output_type": "execute_result"
    }
   ],
   "source": [
    "len(cast[(cast.character==\"The Stranger\") ])"
   ]
  },
  {
   "cell_type": "code",
   "execution_count": null,
   "metadata": {
    "collapsed": true
   },
   "outputs": [],
   "source": []
  },
  {
   "cell_type": "markdown",
   "metadata": {
    "collapsed": true
   },
   "source": [
    "### How many roles has Sidney Poitier played throughout his career?"
   ]
  },
  {
   "cell_type": "code",
   "execution_count": 132,
   "metadata": {
    "collapsed": false
   },
   "outputs": [
    {
     "data": {
      "text/plain": [
       "43"
      ]
     },
     "execution_count": 132,
     "metadata": {},
     "output_type": "execute_result"
    }
   ],
   "source": [
    "len(cast[(cast.name==\"Sidney Poitier\") ])"
   ]
  },
  {
   "cell_type": "code",
   "execution_count": null,
   "metadata": {
    "collapsed": true
   },
   "outputs": [],
   "source": []
  },
  {
   "cell_type": "markdown",
   "metadata": {
    "collapsed": true
   },
   "source": [
    "### How many roles has Judi Dench played?"
   ]
  },
  {
   "cell_type": "code",
   "execution_count": 133,
   "metadata": {
    "collapsed": false
   },
   "outputs": [
    {
     "data": {
      "text/plain": [
       "54"
      ]
     },
     "execution_count": 133,
     "metadata": {},
     "output_type": "execute_result"
    }
   ],
   "source": [
    "len(cast[(cast.name==\"Judi Dench\") ])"
   ]
  },
  {
   "cell_type": "code",
   "execution_count": null,
   "metadata": {
    "collapsed": true
   },
   "outputs": [],
   "source": []
  },
  {
   "cell_type": "markdown",
   "metadata": {
    "collapsed": true
   },
   "source": [
    "### List the supporting roles (having n=2) played by Cary Grant in the 1940s, in order by year."
   ]
  },
  {
   "cell_type": "code",
   "execution_count": 137,
   "metadata": {
    "collapsed": false
   },
   "outputs": [
    {
     "data": {
      "text/html": [
       "<div>\n",
       "<table border=\"1\" class=\"dataframe\">\n",
       "  <thead>\n",
       "    <tr style=\"text-align: right;\">\n",
       "      <th></th>\n",
       "      <th>title</th>\n",
       "      <th>year</th>\n",
       "      <th>name</th>\n",
       "      <th>type</th>\n",
       "      <th>character</th>\n",
       "      <th>n</th>\n",
       "    </tr>\n",
       "  </thead>\n",
       "  <tbody>\n",
       "    <tr>\n",
       "      <th>871454</th>\n",
       "      <td>My Favorite Wife</td>\n",
       "      <td>1940</td>\n",
       "      <td>Cary Grant</td>\n",
       "      <td>actor</td>\n",
       "      <td>Nick Arden</td>\n",
       "      <td>2.0</td>\n",
       "    </tr>\n",
       "    <tr>\n",
       "      <th>871464</th>\n",
       "      <td>Penny Serenade</td>\n",
       "      <td>1941</td>\n",
       "      <td>Cary Grant</td>\n",
       "      <td>actor</td>\n",
       "      <td>Roger Adams</td>\n",
       "      <td>2.0</td>\n",
       "    </tr>\n",
       "  </tbody>\n",
       "</table>\n",
       "</div>"
      ],
      "text/plain": [
       "                   title  year        name   type    character    n\n",
       "871454  My Favorite Wife  1940  Cary Grant  actor   Nick Arden  2.0\n",
       "871464    Penny Serenade  1941  Cary Grant  actor  Roger Adams  2.0"
      ]
     },
     "execution_count": 137,
     "metadata": {},
     "output_type": "execute_result"
    }
   ],
   "source": [
    "cast[(cast.name==\"Cary Grant\") & (cast.n == 2) & (cast.year//10*10==1940)]"
   ]
  },
  {
   "cell_type": "code",
   "execution_count": null,
   "metadata": {
    "collapsed": true
   },
   "outputs": [],
   "source": []
  },
  {
   "cell_type": "markdown",
   "metadata": {
    "collapsed": true
   },
   "source": [
    "### List the leading roles that Cary Grant played in the 1940s in order by year."
   ]
  },
  {
   "cell_type": "code",
   "execution_count": 139,
   "metadata": {
    "collapsed": false
   },
   "outputs": [
    {
     "data": {
      "text/html": [
       "<div>\n",
       "<table border=\"1\" class=\"dataframe\">\n",
       "  <thead>\n",
       "    <tr style=\"text-align: right;\">\n",
       "      <th></th>\n",
       "      <th>title</th>\n",
       "      <th>year</th>\n",
       "      <th>name</th>\n",
       "      <th>type</th>\n",
       "      <th>character</th>\n",
       "      <th>n</th>\n",
       "    </tr>\n",
       "  </thead>\n",
       "  <tbody>\n",
       "    <tr>\n",
       "      <th>871481</th>\n",
       "      <td>The Philadelphia Story</td>\n",
       "      <td>1940</td>\n",
       "      <td>Cary Grant</td>\n",
       "      <td>actor</td>\n",
       "      <td>C. K. Dexter Haven</td>\n",
       "      <td>1.0</td>\n",
       "    </tr>\n",
       "    <tr>\n",
       "      <th>871479</th>\n",
       "      <td>The Howards of Virginia</td>\n",
       "      <td>1940</td>\n",
       "      <td>Cary Grant</td>\n",
       "      <td>actor</td>\n",
       "      <td>Matt Howard</td>\n",
       "      <td>1.0</td>\n",
       "    </tr>\n",
       "    <tr>\n",
       "      <th>871438</th>\n",
       "      <td>His Girl Friday</td>\n",
       "      <td>1940</td>\n",
       "      <td>Cary Grant</td>\n",
       "      <td>actor</td>\n",
       "      <td>Walter Burns</td>\n",
       "      <td>1.0</td>\n",
       "    </tr>\n",
       "    <tr>\n",
       "      <th>871469</th>\n",
       "      <td>Suspicion</td>\n",
       "      <td>1941</td>\n",
       "      <td>Cary Grant</td>\n",
       "      <td>actor</td>\n",
       "      <td>Johnnie Aysgarth</td>\n",
       "      <td>1.0</td>\n",
       "    </tr>\n",
       "    <tr>\n",
       "      <th>871460</th>\n",
       "      <td>Once Upon a Honeymoon</td>\n",
       "      <td>1942</td>\n",
       "      <td>Cary Grant</td>\n",
       "      <td>actor</td>\n",
       "      <td>Patrick 'Pat' O'Toole</td>\n",
       "      <td>1.0</td>\n",
       "    </tr>\n",
       "    <tr>\n",
       "      <th>871483</th>\n",
       "      <td>The Talk of the Town</td>\n",
       "      <td>1942</td>\n",
       "      <td>Cary Grant</td>\n",
       "      <td>actor</td>\n",
       "      <td>Leopold Dilg</td>\n",
       "      <td>1.0</td>\n",
       "    </tr>\n",
       "    <tr>\n",
       "      <th>871429</th>\n",
       "      <td>Destination Tokyo</td>\n",
       "      <td>1943</td>\n",
       "      <td>Cary Grant</td>\n",
       "      <td>actor</td>\n",
       "      <td>Capt. Cassidy</td>\n",
       "      <td>1.0</td>\n",
       "    </tr>\n",
       "    <tr>\n",
       "      <th>871453</th>\n",
       "      <td>Mr. Lucky</td>\n",
       "      <td>1943</td>\n",
       "      <td>Cary Grant</td>\n",
       "      <td>actor</td>\n",
       "      <td>Joe Adams -posing as Joe Bascopolous</td>\n",
       "      <td>1.0</td>\n",
       "    </tr>\n",
       "    <tr>\n",
       "      <th>871421</th>\n",
       "      <td>Arsenic and Old Lace</td>\n",
       "      <td>1944</td>\n",
       "      <td>Cary Grant</td>\n",
       "      <td>actor</td>\n",
       "      <td>Mortimer Brewster</td>\n",
       "      <td>1.0</td>\n",
       "    </tr>\n",
       "    <tr>\n",
       "      <th>871461</th>\n",
       "      <td>Once Upon a Time</td>\n",
       "      <td>1944</td>\n",
       "      <td>Cary Grant</td>\n",
       "      <td>actor</td>\n",
       "      <td>Jerry Flynn</td>\n",
       "      <td>1.0</td>\n",
       "    </tr>\n",
       "    <tr>\n",
       "      <th>871456</th>\n",
       "      <td>None But the Lonely Heart</td>\n",
       "      <td>1944</td>\n",
       "      <td>Cary Grant</td>\n",
       "      <td>actor</td>\n",
       "      <td>Ernie Mott</td>\n",
       "      <td>1.0</td>\n",
       "    </tr>\n",
       "    <tr>\n",
       "      <th>871436</th>\n",
       "      <td>George White's Scandals</td>\n",
       "      <td>1945</td>\n",
       "      <td>Cary Grant</td>\n",
       "      <td>actor</td>\n",
       "      <td>Cary Grant</td>\n",
       "      <td>NaN</td>\n",
       "    </tr>\n",
       "    <tr>\n",
       "      <th>871455</th>\n",
       "      <td>Night and Day</td>\n",
       "      <td>1946</td>\n",
       "      <td>Cary Grant</td>\n",
       "      <td>actor</td>\n",
       "      <td>Cole Porter</td>\n",
       "      <td>1.0</td>\n",
       "    </tr>\n",
       "    <tr>\n",
       "      <th>871458</th>\n",
       "      <td>Notorious</td>\n",
       "      <td>1946</td>\n",
       "      <td>Cary Grant</td>\n",
       "      <td>actor</td>\n",
       "      <td>Devlin</td>\n",
       "      <td>1.0</td>\n",
       "    </tr>\n",
       "    <tr>\n",
       "      <th>871497</th>\n",
       "      <td>Without Reservations</td>\n",
       "      <td>1946</td>\n",
       "      <td>Cary Grant</td>\n",
       "      <td>actor</td>\n",
       "      <td>Cary Grant</td>\n",
       "      <td>NaN</td>\n",
       "    </tr>\n",
       "    <tr>\n",
       "      <th>871475</th>\n",
       "      <td>The Bachelor and the Bobby-Soxer</td>\n",
       "      <td>1947</td>\n",
       "      <td>Cary Grant</td>\n",
       "      <td>actor</td>\n",
       "      <td>Dick Nugent</td>\n",
       "      <td>1.0</td>\n",
       "    </tr>\n",
       "    <tr>\n",
       "      <th>871476</th>\n",
       "      <td>The Bishop's Wife</td>\n",
       "      <td>1947</td>\n",
       "      <td>Cary Grant</td>\n",
       "      <td>actor</td>\n",
       "      <td>Dudley</td>\n",
       "      <td>1.0</td>\n",
       "    </tr>\n",
       "    <tr>\n",
       "      <th>871452</th>\n",
       "      <td>Mr. Blandings Builds His Dream House</td>\n",
       "      <td>1948</td>\n",
       "      <td>Cary Grant</td>\n",
       "      <td>actor</td>\n",
       "      <td>Jim Blandings</td>\n",
       "      <td>1.0</td>\n",
       "    </tr>\n",
       "    <tr>\n",
       "      <th>871433</th>\n",
       "      <td>Every Girl Should Be Married</td>\n",
       "      <td>1948</td>\n",
       "      <td>Cary Grant</td>\n",
       "      <td>actor</td>\n",
       "      <td>Dr. Madison Brown</td>\n",
       "      <td>1.0</td>\n",
       "    </tr>\n",
       "    <tr>\n",
       "      <th>871442</th>\n",
       "      <td>I Was a Male War Bride</td>\n",
       "      <td>1949</td>\n",
       "      <td>Cary Grant</td>\n",
       "      <td>actor</td>\n",
       "      <td>Captain Henri Rochard</td>\n",
       "      <td>1.0</td>\n",
       "    </tr>\n",
       "  </tbody>\n",
       "</table>\n",
       "</div>"
      ],
      "text/plain": [
       "                                       title  year        name   type  \\\n",
       "871481                The Philadelphia Story  1940  Cary Grant  actor   \n",
       "871479               The Howards of Virginia  1940  Cary Grant  actor   \n",
       "871438                       His Girl Friday  1940  Cary Grant  actor   \n",
       "871469                             Suspicion  1941  Cary Grant  actor   \n",
       "871460                 Once Upon a Honeymoon  1942  Cary Grant  actor   \n",
       "871483                  The Talk of the Town  1942  Cary Grant  actor   \n",
       "871429                     Destination Tokyo  1943  Cary Grant  actor   \n",
       "871453                             Mr. Lucky  1943  Cary Grant  actor   \n",
       "871421                  Arsenic and Old Lace  1944  Cary Grant  actor   \n",
       "871461                      Once Upon a Time  1944  Cary Grant  actor   \n",
       "871456             None But the Lonely Heart  1944  Cary Grant  actor   \n",
       "871436               George White's Scandals  1945  Cary Grant  actor   \n",
       "871455                         Night and Day  1946  Cary Grant  actor   \n",
       "871458                             Notorious  1946  Cary Grant  actor   \n",
       "871497                  Without Reservations  1946  Cary Grant  actor   \n",
       "871475      The Bachelor and the Bobby-Soxer  1947  Cary Grant  actor   \n",
       "871476                     The Bishop's Wife  1947  Cary Grant  actor   \n",
       "871452  Mr. Blandings Builds His Dream House  1948  Cary Grant  actor   \n",
       "871433          Every Girl Should Be Married  1948  Cary Grant  actor   \n",
       "871442                I Was a Male War Bride  1949  Cary Grant  actor   \n",
       "\n",
       "                                   character    n  \n",
       "871481                    C. K. Dexter Haven  1.0  \n",
       "871479                           Matt Howard  1.0  \n",
       "871438                          Walter Burns  1.0  \n",
       "871469                      Johnnie Aysgarth  1.0  \n",
       "871460                 Patrick 'Pat' O'Toole  1.0  \n",
       "871483                          Leopold Dilg  1.0  \n",
       "871429                         Capt. Cassidy  1.0  \n",
       "871453  Joe Adams -posing as Joe Bascopolous  1.0  \n",
       "871421                     Mortimer Brewster  1.0  \n",
       "871461                           Jerry Flynn  1.0  \n",
       "871456                            Ernie Mott  1.0  \n",
       "871436                            Cary Grant  NaN  \n",
       "871455                           Cole Porter  1.0  \n",
       "871458                                Devlin  1.0  \n",
       "871497                            Cary Grant  NaN  \n",
       "871475                           Dick Nugent  1.0  \n",
       "871476                                Dudley  1.0  \n",
       "871452                         Jim Blandings  1.0  \n",
       "871433                     Dr. Madison Brown  1.0  \n",
       "871442                 Captain Henri Rochard  1.0  "
      ]
     },
     "execution_count": 139,
     "metadata": {},
     "output_type": "execute_result"
    }
   ],
   "source": [
    "cast[(cast.name==\"Cary Grant\") & (cast.n != 2) & (cast.year//10*10==1940)].sort_values(\"year\")"
   ]
  },
  {
   "cell_type": "code",
   "execution_count": null,
   "metadata": {
    "collapsed": true
   },
   "outputs": [],
   "source": []
  },
  {
   "cell_type": "markdown",
   "metadata": {
    "collapsed": true
   },
   "source": [
    "### How many roles were available for actors in the 1950s?"
   ]
  },
  {
   "cell_type": "code",
   "execution_count": 141,
   "metadata": {
    "collapsed": false
   },
   "outputs": [
    {
     "data": {
      "text/plain": [
       "157580"
      ]
     },
     "execution_count": 141,
     "metadata": {},
     "output_type": "execute_result"
    }
   ],
   "source": [
    "len(cast[(cast.type==\"actor\") & (cast.year//10*10==1950)])"
   ]
  },
  {
   "cell_type": "code",
   "execution_count": null,
   "metadata": {
    "collapsed": true
   },
   "outputs": [],
   "source": []
  },
  {
   "cell_type": "markdown",
   "metadata": {
    "collapsed": true
   },
   "source": [
    "### How many roles were available for actresses in the 1950s?"
   ]
  },
  {
   "cell_type": "code",
   "execution_count": 142,
   "metadata": {
    "collapsed": false
   },
   "outputs": [
    {
     "data": {
      "text/plain": [
       "0"
      ]
     },
     "execution_count": 142,
     "metadata": {},
     "output_type": "execute_result"
    }
   ],
   "source": [
    "len(cast[(cast.type==\"actresse\") & (cast.year//10*10==1950)])"
   ]
  },
  {
   "cell_type": "code",
   "execution_count": null,
   "metadata": {
    "collapsed": true
   },
   "outputs": [],
   "source": []
  },
  {
   "cell_type": "markdown",
   "metadata": {
    "collapsed": true
   },
   "source": [
    "### How many leading roles (n=1) were available from the beginning of film history through 1980?"
   ]
  },
  {
   "cell_type": "code",
   "execution_count": 143,
   "metadata": {
    "collapsed": false
   },
   "outputs": [
    {
     "data": {
      "text/plain": [
       "76946"
      ]
     },
     "execution_count": 143,
     "metadata": {},
     "output_type": "execute_result"
    }
   ],
   "source": [
    "len(cast[(cast.n==1) & (cast.year//10*10<=1980)])"
   ]
  },
  {
   "cell_type": "code",
   "execution_count": null,
   "metadata": {
    "collapsed": true
   },
   "outputs": [],
   "source": []
  },
  {
   "cell_type": "markdown",
   "metadata": {
    "collapsed": true
   },
   "source": [
    "### How many non-leading roles were available through from the beginning of film history through 1980?"
   ]
  },
  {
   "cell_type": "code",
   "execution_count": 144,
   "metadata": {
    "collapsed": false
   },
   "outputs": [
    {
     "data": {
      "text/plain": [
       "1364658"
      ]
     },
     "execution_count": 144,
     "metadata": {},
     "output_type": "execute_result"
    }
   ],
   "source": [
    "len(cast[(cast.n!=1) & (cast.year//10*10<=1980)])"
   ]
  },
  {
   "cell_type": "code",
   "execution_count": null,
   "metadata": {
    "collapsed": true
   },
   "outputs": [],
   "source": []
  },
  {
   "cell_type": "markdown",
   "metadata": {
    "collapsed": true
   },
   "source": [
    "### How many roles through 1980 were minor enough that they did not warrant a numeric \"n\" rank?"
   ]
  },
  {
   "cell_type": "code",
   "execution_count": 148,
   "metadata": {
    "collapsed": false
   },
   "outputs": [
    {
     "data": {
      "text/plain": [
       "494062"
      ]
     },
     "execution_count": 148,
     "metadata": {},
     "output_type": "execute_result"
    }
   ],
   "source": [
    "len(cast[(cast.n.notnull()==False) & (cast.year//10*10<=1980)])"
   ]
  },
  {
   "cell_type": "code",
   "execution_count": null,
   "metadata": {
    "collapsed": true
   },
   "outputs": [],
   "source": []
  },
  {
   "cell_type": "code",
   "execution_count": null,
   "metadata": {
    "collapsed": true
   },
   "outputs": [],
   "source": []
  },
  {
   "cell_type": "code",
   "execution_count": null,
   "metadata": {
    "collapsed": true
   },
   "outputs": [],
   "source": []
  },
  {
   "cell_type": "code",
   "execution_count": null,
   "metadata": {
    "collapsed": true
   },
   "outputs": [],
   "source": []
  },
  {
   "cell_type": "code",
   "execution_count": null,
   "metadata": {
    "collapsed": true
   },
   "outputs": [],
   "source": []
  },
  {
   "cell_type": "code",
   "execution_count": null,
   "metadata": {
    "collapsed": true
   },
   "outputs": [],
   "source": []
  },
  {
   "cell_type": "code",
   "execution_count": null,
   "metadata": {
    "collapsed": true
   },
   "outputs": [],
   "source": []
  },
  {
   "cell_type": "code",
   "execution_count": null,
   "metadata": {
    "collapsed": true
   },
   "outputs": [],
   "source": []
  },
  {
   "cell_type": "code",
   "execution_count": null,
   "metadata": {
    "collapsed": true
   },
   "outputs": [],
   "source": []
  },
  {
   "cell_type": "code",
   "execution_count": null,
   "metadata": {
    "collapsed": true
   },
   "outputs": [],
   "source": []
  },
  {
   "cell_type": "code",
   "execution_count": null,
   "metadata": {
    "collapsed": true
   },
   "outputs": [],
   "source": []
  },
  {
   "cell_type": "code",
   "execution_count": 9,
   "metadata": {
    "collapsed": false
   },
   "outputs": [
    {
     "data": {
      "text/html": [
       "<div>\n",
       "<table border=\"1\" class=\"dataframe\">\n",
       "  <thead>\n",
       "    <tr style=\"text-align: right;\">\n",
       "      <th></th>\n",
       "      <th>title</th>\n",
       "      <th>year</th>\n",
       "    </tr>\n",
       "  </thead>\n",
       "  <tbody>\n",
       "    <tr>\n",
       "      <th>0</th>\n",
       "      <td>The Rising Son</td>\n",
       "      <td>1990</td>\n",
       "    </tr>\n",
       "    <tr>\n",
       "      <th>1</th>\n",
       "      <td>The Thousand Plane Raid</td>\n",
       "      <td>1969</td>\n",
       "    </tr>\n",
       "    <tr>\n",
       "      <th>2</th>\n",
       "      <td>The Spider and the Fly</td>\n",
       "      <td>1949</td>\n",
       "    </tr>\n",
       "    <tr>\n",
       "      <th>3</th>\n",
       "      <td>Country</td>\n",
       "      <td>2000</td>\n",
       "    </tr>\n",
       "    <tr>\n",
       "      <th>4</th>\n",
       "      <td>Gai shi dao wang</td>\n",
       "      <td>1969</td>\n",
       "    </tr>\n",
       "    <tr>\n",
       "      <th>5</th>\n",
       "      <td>Gaiking II</td>\n",
       "      <td>2011</td>\n",
       "    </tr>\n",
       "    <tr>\n",
       "      <th>6</th>\n",
       "      <td>Medusa (IV)</td>\n",
       "      <td>2015</td>\n",
       "    </tr>\n",
       "    <tr>\n",
       "      <th>7</th>\n",
       "      <td>The Fresh Air Will Do You Good</td>\n",
       "      <td>2008</td>\n",
       "    </tr>\n",
       "    <tr>\n",
       "      <th>8</th>\n",
       "      <td>Alex in Wonderland</td>\n",
       "      <td>1970</td>\n",
       "    </tr>\n",
       "    <tr>\n",
       "      <th>9</th>\n",
       "      <td>L'outsider</td>\n",
       "      <td>2016</td>\n",
       "    </tr>\n",
       "    <tr>\n",
       "      <th>10</th>\n",
       "      <td>Death Ouija 2</td>\n",
       "      <td>2017</td>\n",
       "    </tr>\n",
       "    <tr>\n",
       "      <th>11</th>\n",
       "      <td>Do Outro Lado do Mundo</td>\n",
       "      <td>2008</td>\n",
       "    </tr>\n",
       "    <tr>\n",
       "      <th>12</th>\n",
       "      <td>Slave by Name</td>\n",
       "      <td>2017</td>\n",
       "    </tr>\n",
       "    <tr>\n",
       "      <th>13</th>\n",
       "      <td>The Abductress</td>\n",
       "      <td>2014</td>\n",
       "    </tr>\n",
       "    <tr>\n",
       "      <th>14</th>\n",
       "      <td>Poka Makorer Ghar Bosoti</td>\n",
       "      <td>1996</td>\n",
       "    </tr>\n",
       "    <tr>\n",
       "      <th>15</th>\n",
       "      <td>Hi, Buddy</td>\n",
       "      <td>1943</td>\n",
       "    </tr>\n",
       "    <tr>\n",
       "      <th>16</th>\n",
       "      <td>Los siete locos</td>\n",
       "      <td>1973</td>\n",
       "    </tr>\n",
       "    <tr>\n",
       "      <th>17</th>\n",
       "      <td>Panic Room</td>\n",
       "      <td>2002</td>\n",
       "    </tr>\n",
       "    <tr>\n",
       "      <th>18</th>\n",
       "      <td>Io sono un autarchico</td>\n",
       "      <td>1976</td>\n",
       "    </tr>\n",
       "    <tr>\n",
       "      <th>19</th>\n",
       "      <td>Shobhna's Seven Nights</td>\n",
       "      <td>2012</td>\n",
       "    </tr>\n",
       "    <tr>\n",
       "      <th>20</th>\n",
       "      <td>Mahapurush</td>\n",
       "      <td>1965</td>\n",
       "    </tr>\n",
       "    <tr>\n",
       "      <th>21</th>\n",
       "      <td>Maa Durga Shakti</td>\n",
       "      <td>1999</td>\n",
       "    </tr>\n",
       "    <tr>\n",
       "      <th>22</th>\n",
       "      <td>Patria</td>\n",
       "      <td>1917</td>\n",
       "    </tr>\n",
       "    <tr>\n",
       "      <th>23</th>\n",
       "      <td>Passenger Side</td>\n",
       "      <td>2009</td>\n",
       "    </tr>\n",
       "    <tr>\n",
       "      <th>24</th>\n",
       "      <td>Ang pumatay ng dahil sa iyo</td>\n",
       "      <td>1989</td>\n",
       "    </tr>\n",
       "    <tr>\n",
       "      <th>25</th>\n",
       "      <td>Inspired to Kill</td>\n",
       "      <td>2016</td>\n",
       "    </tr>\n",
       "    <tr>\n",
       "      <th>26</th>\n",
       "      <td>Conflict of Interest</td>\n",
       "      <td>1993</td>\n",
       "    </tr>\n",
       "    <tr>\n",
       "      <th>27</th>\n",
       "      <td>The Syndicate</td>\n",
       "      <td>2011</td>\n",
       "    </tr>\n",
       "    <tr>\n",
       "      <th>28</th>\n",
       "      <td>Suzanne, professeur de flirt</td>\n",
       "      <td>1916</td>\n",
       "    </tr>\n",
       "    <tr>\n",
       "      <th>29</th>\n",
       "      <td>Arrive Alive</td>\n",
       "      <td>1990</td>\n",
       "    </tr>\n",
       "    <tr>\n",
       "      <th>...</th>\n",
       "      <td>...</td>\n",
       "      <td>...</td>\n",
       "    </tr>\n",
       "    <tr>\n",
       "      <th>238011</th>\n",
       "      <td>Dan xin pu</td>\n",
       "      <td>1980</td>\n",
       "    </tr>\n",
       "    <tr>\n",
       "      <th>238012</th>\n",
       "      <td>La zona del silencio</td>\n",
       "      <td>1990</td>\n",
       "    </tr>\n",
       "    <tr>\n",
       "      <th>238013</th>\n",
       "      <td>The Legend of Kate Kensington</td>\n",
       "      <td>2015</td>\n",
       "    </tr>\n",
       "    <tr>\n",
       "      <th>238014</th>\n",
       "      <td>Buynyy Terek</td>\n",
       "      <td>1981</td>\n",
       "    </tr>\n",
       "    <tr>\n",
       "      <th>238015</th>\n",
       "      <td>Hotel alojamiento</td>\n",
       "      <td>1966</td>\n",
       "    </tr>\n",
       "    <tr>\n",
       "      <th>238016</th>\n",
       "      <td>Agreement</td>\n",
       "      <td>1980</td>\n",
       "    </tr>\n",
       "    <tr>\n",
       "      <th>238017</th>\n",
       "      <td>Monsters University</td>\n",
       "      <td>2013</td>\n",
       "    </tr>\n",
       "    <tr>\n",
       "      <th>238018</th>\n",
       "      <td>This Killing Business</td>\n",
       "      <td>2013</td>\n",
       "    </tr>\n",
       "    <tr>\n",
       "      <th>238019</th>\n",
       "      <td>Berlina - Eine Reise ins Ungewisse</td>\n",
       "      <td>1991</td>\n",
       "    </tr>\n",
       "    <tr>\n",
       "      <th>238020</th>\n",
       "      <td>Die Herrgottsgrenadiere</td>\n",
       "      <td>1932</td>\n",
       "    </tr>\n",
       "    <tr>\n",
       "      <th>238021</th>\n",
       "      <td>Meglio baciare un cobra</td>\n",
       "      <td>1986</td>\n",
       "    </tr>\n",
       "    <tr>\n",
       "      <th>238022</th>\n",
       "      <td>A Frog in Winter</td>\n",
       "      <td>2018</td>\n",
       "    </tr>\n",
       "    <tr>\n",
       "      <th>238023</th>\n",
       "      <td>Counterpoint</td>\n",
       "      <td>1967</td>\n",
       "    </tr>\n",
       "    <tr>\n",
       "      <th>238024</th>\n",
       "      <td>Den sidste dag</td>\n",
       "      <td>2004</td>\n",
       "    </tr>\n",
       "    <tr>\n",
       "      <th>238025</th>\n",
       "      <td>Take This Job and Shove It</td>\n",
       "      <td>1981</td>\n",
       "    </tr>\n",
       "    <tr>\n",
       "      <th>238026</th>\n",
       "      <td>Le temps de l'aventure</td>\n",
       "      <td>2013</td>\n",
       "    </tr>\n",
       "    <tr>\n",
       "      <th>238027</th>\n",
       "      <td>Dead Rising: Endgame</td>\n",
       "      <td>2016</td>\n",
       "    </tr>\n",
       "    <tr>\n",
       "      <th>238028</th>\n",
       "      <td>Yakhonty. Ubiystvo</td>\n",
       "      <td>2017</td>\n",
       "    </tr>\n",
       "    <tr>\n",
       "      <th>238029</th>\n",
       "      <td>Frakchi</td>\n",
       "      <td>2004</td>\n",
       "    </tr>\n",
       "    <tr>\n",
       "      <th>238030</th>\n",
       "      <td>Nie bylo slonca tej wiosny</td>\n",
       "      <td>1984</td>\n",
       "    </tr>\n",
       "    <tr>\n",
       "      <th>238031</th>\n",
       "      <td>Clara no es nombre de mujer</td>\n",
       "      <td>2012</td>\n",
       "    </tr>\n",
       "    <tr>\n",
       "      <th>238032</th>\n",
       "      <td>Benzina</td>\n",
       "      <td>2001</td>\n",
       "    </tr>\n",
       "    <tr>\n",
       "      <th>238033</th>\n",
       "      <td>Kasaysayan ng lahi</td>\n",
       "      <td>1973</td>\n",
       "    </tr>\n",
       "    <tr>\n",
       "      <th>238034</th>\n",
       "      <td>Hu tu nu si ji</td>\n",
       "      <td>1982</td>\n",
       "    </tr>\n",
       "    <tr>\n",
       "      <th>238035</th>\n",
       "      <td>Nobody Waved Good-bye</td>\n",
       "      <td>1964</td>\n",
       "    </tr>\n",
       "    <tr>\n",
       "      <th>238036</th>\n",
       "      <td>E yue</td>\n",
       "      <td>2005</td>\n",
       "    </tr>\n",
       "    <tr>\n",
       "      <th>238037</th>\n",
       "      <td>Lakota Girls</td>\n",
       "      <td>2015</td>\n",
       "    </tr>\n",
       "    <tr>\n",
       "      <th>238038</th>\n",
       "      <td>Kroniki domowe</td>\n",
       "      <td>1997</td>\n",
       "    </tr>\n",
       "    <tr>\n",
       "      <th>238039</th>\n",
       "      <td>Awakening the Zodiac</td>\n",
       "      <td>2017</td>\n",
       "    </tr>\n",
       "    <tr>\n",
       "      <th>238040</th>\n",
       "      <td>American Satan</td>\n",
       "      <td>2017</td>\n",
       "    </tr>\n",
       "  </tbody>\n",
       "</table>\n",
       "<p>238041 rows × 2 columns</p>\n",
       "</div>"
      ],
      "text/plain": [
       "                                     title  year\n",
       "0                           The Rising Son  1990\n",
       "1                  The Thousand Plane Raid  1969\n",
       "2                   The Spider and the Fly  1949\n",
       "3                                  Country  2000\n",
       "4                         Gai shi dao wang  1969\n",
       "5                               Gaiking II  2011\n",
       "6                              Medusa (IV)  2015\n",
       "7           The Fresh Air Will Do You Good  2008\n",
       "8                       Alex in Wonderland  1970\n",
       "9                               L'outsider  2016\n",
       "10                           Death Ouija 2  2017\n",
       "11                  Do Outro Lado do Mundo  2008\n",
       "12                           Slave by Name  2017\n",
       "13                          The Abductress  2014\n",
       "14                Poka Makorer Ghar Bosoti  1996\n",
       "15                               Hi, Buddy  1943\n",
       "16                         Los siete locos  1973\n",
       "17                              Panic Room  2002\n",
       "18                   Io sono un autarchico  1976\n",
       "19                  Shobhna's Seven Nights  2012\n",
       "20                              Mahapurush  1965\n",
       "21                        Maa Durga Shakti  1999\n",
       "22                                  Patria  1917\n",
       "23                          Passenger Side  2009\n",
       "24             Ang pumatay ng dahil sa iyo  1989\n",
       "25                        Inspired to Kill  2016\n",
       "26                    Conflict of Interest  1993\n",
       "27                           The Syndicate  2011\n",
       "28            Suzanne, professeur de flirt  1916\n",
       "29                            Arrive Alive  1990\n",
       "...                                    ...   ...\n",
       "238011                          Dan xin pu  1980\n",
       "238012                La zona del silencio  1990\n",
       "238013       The Legend of Kate Kensington  2015\n",
       "238014                        Buynyy Terek  1981\n",
       "238015                   Hotel alojamiento  1966\n",
       "238016                           Agreement  1980\n",
       "238017                 Monsters University  2013\n",
       "238018               This Killing Business  2013\n",
       "238019  Berlina - Eine Reise ins Ungewisse  1991\n",
       "238020             Die Herrgottsgrenadiere  1932\n",
       "238021             Meglio baciare un cobra  1986\n",
       "238022                    A Frog in Winter  2018\n",
       "238023                        Counterpoint  1967\n",
       "238024                      Den sidste dag  2004\n",
       "238025          Take This Job and Shove It  1981\n",
       "238026              Le temps de l'aventure  2013\n",
       "238027                Dead Rising: Endgame  2016\n",
       "238028                  Yakhonty. Ubiystvo  2017\n",
       "238029                             Frakchi  2004\n",
       "238030          Nie bylo slonca tej wiosny  1984\n",
       "238031         Clara no es nombre de mujer  2012\n",
       "238032                             Benzina  2001\n",
       "238033                  Kasaysayan ng lahi  1973\n",
       "238034                      Hu tu nu si ji  1982\n",
       "238035               Nobody Waved Good-bye  1964\n",
       "238036                               E yue  2005\n",
       "238037                        Lakota Girls  2015\n",
       "238038                      Kroniki domowe  1997\n",
       "238039                Awakening the Zodiac  2017\n",
       "238040                      American Satan  2017\n",
       "\n",
       "[238041 rows x 2 columns]"
      ]
     },
     "execution_count": 9,
     "metadata": {},
     "output_type": "execute_result"
    }
   ],
   "source": [
    "titles"
   ]
  },
  {
   "cell_type": "code",
   "execution_count": 11,
   "metadata": {
    "collapsed": false
   },
   "outputs": [
    {
     "data": {
      "text/html": [
       "<div>\n",
       "<table border=\"1\" class=\"dataframe\">\n",
       "  <thead>\n",
       "    <tr style=\"text-align: right;\">\n",
       "      <th></th>\n",
       "      <th>title</th>\n",
       "      <th>year</th>\n",
       "    </tr>\n",
       "  </thead>\n",
       "  <tbody>\n",
       "    <tr>\n",
       "      <th>0</th>\n",
       "      <td>The Rising Son</td>\n",
       "      <td>1990</td>\n",
       "    </tr>\n",
       "    <tr>\n",
       "      <th>1</th>\n",
       "      <td>The Thousand Plane Raid</td>\n",
       "      <td>1969</td>\n",
       "    </tr>\n",
       "    <tr>\n",
       "      <th>2</th>\n",
       "      <td>The Spider and the Fly</td>\n",
       "      <td>1949</td>\n",
       "    </tr>\n",
       "    <tr>\n",
       "      <th>3</th>\n",
       "      <td>Country</td>\n",
       "      <td>2000</td>\n",
       "    </tr>\n",
       "    <tr>\n",
       "      <th>4</th>\n",
       "      <td>Gai shi dao wang</td>\n",
       "      <td>1969</td>\n",
       "    </tr>\n",
       "  </tbody>\n",
       "</table>\n",
       "</div>"
      ],
      "text/plain": [
       "                     title  year\n",
       "0           The Rising Son  1990\n",
       "1  The Thousand Plane Raid  1969\n",
       "2   The Spider and the Fly  1949\n",
       "3                  Country  2000\n",
       "4         Gai shi dao wang  1969"
      ]
     },
     "execution_count": 11,
     "metadata": {},
     "output_type": "execute_result"
    }
   ],
   "source": [
    "titles.head()"
   ]
  },
  {
   "cell_type": "code",
   "execution_count": 14,
   "metadata": {
    "collapsed": false
   },
   "outputs": [],
   "source": [
    "h=titles.tail(10)"
   ]
  },
  {
   "cell_type": "code",
   "execution_count": 15,
   "metadata": {
    "collapsed": false
   },
   "outputs": [
    {
     "data": {
      "text/html": [
       "<div>\n",
       "<table border=\"1\" class=\"dataframe\">\n",
       "  <thead>\n",
       "    <tr style=\"text-align: right;\">\n",
       "      <th></th>\n",
       "      <th>title</th>\n",
       "      <th>year</th>\n",
       "    </tr>\n",
       "  </thead>\n",
       "  <tbody>\n",
       "    <tr>\n",
       "      <th>238031</th>\n",
       "      <td>Clara no es nombre de mujer</td>\n",
       "      <td>2012</td>\n",
       "    </tr>\n",
       "    <tr>\n",
       "      <th>238032</th>\n",
       "      <td>Benzina</td>\n",
       "      <td>2001</td>\n",
       "    </tr>\n",
       "    <tr>\n",
       "      <th>238033</th>\n",
       "      <td>Kasaysayan ng lahi</td>\n",
       "      <td>1973</td>\n",
       "    </tr>\n",
       "    <tr>\n",
       "      <th>238034</th>\n",
       "      <td>Hu tu nu si ji</td>\n",
       "      <td>1982</td>\n",
       "    </tr>\n",
       "    <tr>\n",
       "      <th>238035</th>\n",
       "      <td>Nobody Waved Good-bye</td>\n",
       "      <td>1964</td>\n",
       "    </tr>\n",
       "    <tr>\n",
       "      <th>238036</th>\n",
       "      <td>E yue</td>\n",
       "      <td>2005</td>\n",
       "    </tr>\n",
       "    <tr>\n",
       "      <th>238037</th>\n",
       "      <td>Lakota Girls</td>\n",
       "      <td>2015</td>\n",
       "    </tr>\n",
       "    <tr>\n",
       "      <th>238038</th>\n",
       "      <td>Kroniki domowe</td>\n",
       "      <td>1997</td>\n",
       "    </tr>\n",
       "    <tr>\n",
       "      <th>238039</th>\n",
       "      <td>Awakening the Zodiac</td>\n",
       "      <td>2017</td>\n",
       "    </tr>\n",
       "    <tr>\n",
       "      <th>238040</th>\n",
       "      <td>American Satan</td>\n",
       "      <td>2017</td>\n",
       "    </tr>\n",
       "  </tbody>\n",
       "</table>\n",
       "</div>"
      ],
      "text/plain": [
       "                              title  year\n",
       "238031  Clara no es nombre de mujer  2012\n",
       "238032                      Benzina  2001\n",
       "238033           Kasaysayan ng lahi  1973\n",
       "238034               Hu tu nu si ji  1982\n",
       "238035        Nobody Waved Good-bye  1964\n",
       "238036                        E yue  2005\n",
       "238037                 Lakota Girls  2015\n",
       "238038               Kroniki domowe  1997\n",
       "238039         Awakening the Zodiac  2017\n",
       "238040               American Satan  2017"
      ]
     },
     "execution_count": 15,
     "metadata": {},
     "output_type": "execute_result"
    }
   ],
   "source": [
    "h"
   ]
  },
  {
   "cell_type": "code",
   "execution_count": 21,
   "metadata": {
    "collapsed": false
   },
   "outputs": [
    {
     "data": {
      "text/plain": [
       "238031    2010\n",
       "238032    2000\n",
       "238033    1970\n",
       "238034    1980\n",
       "238035    1960\n",
       "238036    2000\n",
       "238037    2010\n",
       "238038    1990\n",
       "238039    2010\n",
       "238040    2010\n",
       "Name: year, dtype: int64"
      ]
     },
     "execution_count": 21,
     "metadata": {},
     "output_type": "execute_result"
    }
   ],
   "source": [
    "h[\"year\"]//10*10"
   ]
  },
  {
   "cell_type": "code",
   "execution_count": 24,
   "metadata": {
    "collapsed": false
   },
   "outputs": [
    {
     "data": {
      "text/plain": [
       "238031     True\n",
       "238032     True\n",
       "238033    False\n",
       "238034    False\n",
       "238035    False\n",
       "238036     True\n",
       "238037     True\n",
       "238038    False\n",
       "238039     True\n",
       "238040     True\n",
       "Name: year, dtype: bool"
      ]
     },
     "execution_count": 24,
     "metadata": {},
     "output_type": "execute_result"
    }
   ],
   "source": [
    "h.year>2000"
   ]
  },
  {
   "cell_type": "code",
   "execution_count": 25,
   "metadata": {
    "collapsed": false
   },
   "outputs": [
    {
     "data": {
      "text/html": [
       "<div>\n",
       "<table border=\"1\" class=\"dataframe\">\n",
       "  <thead>\n",
       "    <tr style=\"text-align: right;\">\n",
       "      <th></th>\n",
       "      <th>title</th>\n",
       "      <th>year</th>\n",
       "    </tr>\n",
       "  </thead>\n",
       "  <tbody>\n",
       "    <tr>\n",
       "      <th>238031</th>\n",
       "      <td>Clara no es nombre de mujer</td>\n",
       "      <td>2012</td>\n",
       "    </tr>\n",
       "    <tr>\n",
       "      <th>238032</th>\n",
       "      <td>Benzina</td>\n",
       "      <td>2001</td>\n",
       "    </tr>\n",
       "    <tr>\n",
       "      <th>238036</th>\n",
       "      <td>E yue</td>\n",
       "      <td>2005</td>\n",
       "    </tr>\n",
       "    <tr>\n",
       "      <th>238037</th>\n",
       "      <td>Lakota Girls</td>\n",
       "      <td>2015</td>\n",
       "    </tr>\n",
       "    <tr>\n",
       "      <th>238039</th>\n",
       "      <td>Awakening the Zodiac</td>\n",
       "      <td>2017</td>\n",
       "    </tr>\n",
       "    <tr>\n",
       "      <th>238040</th>\n",
       "      <td>American Satan</td>\n",
       "      <td>2017</td>\n",
       "    </tr>\n",
       "  </tbody>\n",
       "</table>\n",
       "</div>"
      ],
      "text/plain": [
       "                              title  year\n",
       "238031  Clara no es nombre de mujer  2012\n",
       "238032                      Benzina  2001\n",
       "238036                        E yue  2005\n",
       "238037                 Lakota Girls  2015\n",
       "238039         Awakening the Zodiac  2017\n",
       "238040               American Satan  2017"
      ]
     },
     "execution_count": 25,
     "metadata": {},
     "output_type": "execute_result"
    }
   ],
   "source": [
    "h[h.year>2000]"
   ]
  },
  {
   "cell_type": "code",
   "execution_count": 28,
   "metadata": {
    "collapsed": false
   },
   "outputs": [
    {
     "data": {
      "text/html": [
       "<div>\n",
       "<table border=\"1\" class=\"dataframe\">\n",
       "  <thead>\n",
       "    <tr style=\"text-align: right;\">\n",
       "      <th></th>\n",
       "      <th>title</th>\n",
       "      <th>year</th>\n",
       "    </tr>\n",
       "  </thead>\n",
       "  <tbody>\n",
       "    <tr>\n",
       "      <th>238031</th>\n",
       "      <td>Clara no es nombre de mujer</td>\n",
       "      <td>2012</td>\n",
       "    </tr>\n",
       "    <tr>\n",
       "      <th>238033</th>\n",
       "      <td>Kasaysayan ng lahi</td>\n",
       "      <td>1973</td>\n",
       "    </tr>\n",
       "    <tr>\n",
       "      <th>238034</th>\n",
       "      <td>Hu tu nu si ji</td>\n",
       "      <td>1982</td>\n",
       "    </tr>\n",
       "    <tr>\n",
       "      <th>238035</th>\n",
       "      <td>Nobody Waved Good-bye</td>\n",
       "      <td>1964</td>\n",
       "    </tr>\n",
       "    <tr>\n",
       "      <th>238037</th>\n",
       "      <td>Lakota Girls</td>\n",
       "      <td>2015</td>\n",
       "    </tr>\n",
       "    <tr>\n",
       "      <th>238039</th>\n",
       "      <td>Awakening the Zodiac</td>\n",
       "      <td>2017</td>\n",
       "    </tr>\n",
       "    <tr>\n",
       "      <th>238040</th>\n",
       "      <td>American Satan</td>\n",
       "      <td>2017</td>\n",
       "    </tr>\n",
       "  </tbody>\n",
       "</table>\n",
       "</div>"
      ],
      "text/plain": [
       "                              title  year\n",
       "238031  Clara no es nombre de mujer  2012\n",
       "238033           Kasaysayan ng lahi  1973\n",
       "238034               Hu tu nu si ji  1982\n",
       "238035        Nobody Waved Good-bye  1964\n",
       "238037                 Lakota Girls  2015\n",
       "238039         Awakening the Zodiac  2017\n",
       "238040               American Satan  2017"
      ]
     },
     "execution_count": 28,
     "metadata": {},
     "output_type": "execute_result"
    }
   ],
   "source": [
    "h[(h.year>2010) | (h.year<1990)]"
   ]
  },
  {
   "cell_type": "code",
   "execution_count": 32,
   "metadata": {
    "collapsed": false,
    "scrolled": true
   },
   "outputs": [
    {
     "data": {
      "text/html": [
       "<div>\n",
       "<table border=\"1\" class=\"dataframe\">\n",
       "  <thead>\n",
       "    <tr style=\"text-align: right;\">\n",
       "      <th></th>\n",
       "      <th>title</th>\n",
       "      <th>year</th>\n",
       "    </tr>\n",
       "  </thead>\n",
       "  <tbody>\n",
       "    <tr>\n",
       "      <th>4281</th>\n",
       "      <td>Macbeth</td>\n",
       "      <td>1913</td>\n",
       "    </tr>\n",
       "    <tr>\n",
       "      <th>11919</th>\n",
       "      <td>Macbeth</td>\n",
       "      <td>2013</td>\n",
       "    </tr>\n",
       "    <tr>\n",
       "      <th>57272</th>\n",
       "      <td>Macbeth</td>\n",
       "      <td>2006</td>\n",
       "    </tr>\n",
       "    <tr>\n",
       "      <th>69445</th>\n",
       "      <td>Macbeth</td>\n",
       "      <td>1916</td>\n",
       "    </tr>\n",
       "    <tr>\n",
       "      <th>89242</th>\n",
       "      <td>Macbeth</td>\n",
       "      <td>2003</td>\n",
       "    </tr>\n",
       "    <tr>\n",
       "      <th>106279</th>\n",
       "      <td>Macbeth</td>\n",
       "      <td>1997</td>\n",
       "    </tr>\n",
       "    <tr>\n",
       "      <th>129515</th>\n",
       "      <td>Macbeth</td>\n",
       "      <td>2015</td>\n",
       "    </tr>\n",
       "    <tr>\n",
       "      <th>136190</th>\n",
       "      <td>Macbeth</td>\n",
       "      <td>2004</td>\n",
       "    </tr>\n",
       "    <tr>\n",
       "      <th>145361</th>\n",
       "      <td>Macbeth</td>\n",
       "      <td>1948</td>\n",
       "    </tr>\n",
       "    <tr>\n",
       "      <th>146606</th>\n",
       "      <td>Macbeth</td>\n",
       "      <td>2012</td>\n",
       "    </tr>\n",
       "    <tr>\n",
       "      <th>155262</th>\n",
       "      <td>Macbeth</td>\n",
       "      <td>2009</td>\n",
       "    </tr>\n",
       "    <tr>\n",
       "      <th>159334</th>\n",
       "      <td>Macbeth</td>\n",
       "      <td>2014</td>\n",
       "    </tr>\n",
       "    <tr>\n",
       "      <th>162227</th>\n",
       "      <td>Macbeth</td>\n",
       "      <td>1998</td>\n",
       "    </tr>\n",
       "    <tr>\n",
       "      <th>189784</th>\n",
       "      <td>Macbeth</td>\n",
       "      <td>2017</td>\n",
       "    </tr>\n",
       "    <tr>\n",
       "      <th>209632</th>\n",
       "      <td>Macbeth</td>\n",
       "      <td>1987</td>\n",
       "    </tr>\n",
       "  </tbody>\n",
       "</table>\n",
       "</div>"
      ],
      "text/plain": [
       "          title  year\n",
       "4281    Macbeth  1913\n",
       "11919   Macbeth  2013\n",
       "57272   Macbeth  2006\n",
       "69445   Macbeth  1916\n",
       "89242   Macbeth  2003\n",
       "106279  Macbeth  1997\n",
       "129515  Macbeth  2015\n",
       "136190  Macbeth  2004\n",
       "145361  Macbeth  1948\n",
       "146606  Macbeth  2012\n",
       "155262  Macbeth  2009\n",
       "159334  Macbeth  2014\n",
       "162227  Macbeth  1998\n",
       "189784  Macbeth  2017\n",
       "209632  Macbeth  1987"
      ]
     },
     "execution_count": 32,
     "metadata": {},
     "output_type": "execute_result"
    }
   ],
   "source": [
    "t=titles\n",
    "t[t.title==\"Macbeth\"]"
   ]
  },
  {
   "cell_type": "code",
   "execution_count": 35,
   "metadata": {
    "collapsed": false
   },
   "outputs": [],
   "source": [
    "h=cast"
   ]
  },
  {
   "cell_type": "code",
   "execution_count": 40,
   "metadata": {
    "collapsed": false,
    "scrolled": true
   },
   "outputs": [
    {
     "data": {
      "text/html": [
       "<div>\n",
       "<table border=\"1\" class=\"dataframe\">\n",
       "  <thead>\n",
       "    <tr style=\"text-align: right;\">\n",
       "      <th></th>\n",
       "      <th>title</th>\n",
       "      <th>year</th>\n",
       "      <th>name</th>\n",
       "      <th>type</th>\n",
       "      <th>character</th>\n",
       "      <th>n</th>\n",
       "    </tr>\n",
       "  </thead>\n",
       "  <tbody>\n",
       "    <tr>\n",
       "      <th>0</th>\n",
       "      <td>Closet Monster</td>\n",
       "      <td>2015</td>\n",
       "      <td>Buffy #1</td>\n",
       "      <td>actor</td>\n",
       "      <td>Buffy 4</td>\n",
       "      <td>31.0</td>\n",
       "    </tr>\n",
       "    <tr>\n",
       "      <th>1</th>\n",
       "      <td>Suuri illusioni</td>\n",
       "      <td>1985</td>\n",
       "      <td>Homo $</td>\n",
       "      <td>actor</td>\n",
       "      <td>Guests</td>\n",
       "      <td>22.0</td>\n",
       "    </tr>\n",
       "    <tr>\n",
       "      <th>2</th>\n",
       "      <td>Battle of the Sexes</td>\n",
       "      <td>2017</td>\n",
       "      <td>$hutter</td>\n",
       "      <td>actor</td>\n",
       "      <td>Bobby Riggs Fan</td>\n",
       "      <td>10.0</td>\n",
       "    </tr>\n",
       "    <tr>\n",
       "      <th>8</th>\n",
       "      <td>Lapis, Ballpen at Diploma, a True to Life Journey</td>\n",
       "      <td>2014</td>\n",
       "      <td>Jori ' Danilo' Jurado Jr.</td>\n",
       "      <td>actor</td>\n",
       "      <td>Jaime (young)</td>\n",
       "      <td>9.0</td>\n",
       "    </tr>\n",
       "    <tr>\n",
       "      <th>10</th>\n",
       "      <td>When the Man Went South</td>\n",
       "      <td>2014</td>\n",
       "      <td>Taipaleti 'Atu'ake</td>\n",
       "      <td>actor</td>\n",
       "      <td>Two Palms - Ua'i Paame</td>\n",
       "      <td>8.0</td>\n",
       "    </tr>\n",
       "    <tr>\n",
       "      <th>11</th>\n",
       "      <td>Little Angel (Angelita)</td>\n",
       "      <td>2015</td>\n",
       "      <td>Michael 'babeepower' Viera</td>\n",
       "      <td>actor</td>\n",
       "      <td>Chico</td>\n",
       "      <td>9.0</td>\n",
       "    </tr>\n",
       "    <tr>\n",
       "      <th>16</th>\n",
       "      <td>My Song for You</td>\n",
       "      <td>2010</td>\n",
       "      <td>George 'Bootsy' Thomas</td>\n",
       "      <td>actor</td>\n",
       "      <td>Cooley's Customer</td>\n",
       "      <td>16.0</td>\n",
       "    </tr>\n",
       "    <tr>\n",
       "      <th>17</th>\n",
       "      <td>My Song for You</td>\n",
       "      <td>2010</td>\n",
       "      <td>George 'Bootsy' Thomas</td>\n",
       "      <td>actor</td>\n",
       "      <td>Celebration Guest</td>\n",
       "      <td>16.0</td>\n",
       "    </tr>\n",
       "    <tr>\n",
       "      <th>19</th>\n",
       "      <td>Mariano Mison... NBI</td>\n",
       "      <td>1997</td>\n",
       "      <td>Joseph 'Byron' Sese</td>\n",
       "      <td>actor</td>\n",
       "      <td>Putik's Son</td>\n",
       "      <td>31.0</td>\n",
       "    </tr>\n",
       "    <tr>\n",
       "      <th>25</th>\n",
       "      <td>Pelotazo nacional</td>\n",
       "      <td>1993</td>\n",
       "      <td>F?lix 'El Gato'</td>\n",
       "      <td>actor</td>\n",
       "      <td>Rebolledo</td>\n",
       "      <td>12.0</td>\n",
       "    </tr>\n",
       "    <tr>\n",
       "      <th>26</th>\n",
       "      <td>Los tarantos</td>\n",
       "      <td>1963</td>\n",
       "      <td>'El Guisa'</td>\n",
       "      <td>actor</td>\n",
       "      <td>Bailaor</td>\n",
       "      <td>25.0</td>\n",
       "    </tr>\n",
       "    <tr>\n",
       "      <th>27</th>\n",
       "      <td>De la calle</td>\n",
       "      <td>2001</td>\n",
       "      <td>Luis 'El Plojo'</td>\n",
       "      <td>actor</td>\n",
       "      <td>Froil?n plaza del estudiante</td>\n",
       "      <td>80.0</td>\n",
       "    </tr>\n",
       "    <tr>\n",
       "      <th>28</th>\n",
       "      <td>Los tarantos</td>\n",
       "      <td>1963</td>\n",
       "      <td>'El Viti'</td>\n",
       "      <td>actor</td>\n",
       "      <td>Cantaor</td>\n",
       "      <td>20.0</td>\n",
       "    </tr>\n",
       "    <tr>\n",
       "      <th>29</th>\n",
       "      <td>They Want Dick Dickster</td>\n",
       "      <td>2015</td>\n",
       "      <td>Zhavier' (II) 'Fox</td>\n",
       "      <td>actor</td>\n",
       "      <td>Dr. Shrinkalotsky</td>\n",
       "      <td>25.0</td>\n",
       "    </tr>\n",
       "    <tr>\n",
       "      <th>30</th>\n",
       "      <td>Mahogany Sunrise</td>\n",
       "      <td>2014</td>\n",
       "      <td>Gilberto 'Ghetto Bird' Bahena</td>\n",
       "      <td>actor</td>\n",
       "      <td>Jesse</td>\n",
       "      <td>21.0</td>\n",
       "    </tr>\n",
       "    <tr>\n",
       "      <th>31</th>\n",
       "      <td>Wakolda</td>\n",
       "      <td>2013</td>\n",
       "      <td>Marcelo 'Hos' Bearzi</td>\n",
       "      <td>actor</td>\n",
       "      <td>Due?o de la hoster?a</td>\n",
       "      <td>19.0</td>\n",
       "    </tr>\n",
       "    <tr>\n",
       "      <th>32</th>\n",
       "      <td>Killing Device</td>\n",
       "      <td>1993</td>\n",
       "      <td>Van 'Igor' Morrison</td>\n",
       "      <td>actor</td>\n",
       "      <td>Jeep Driver</td>\n",
       "      <td>51.0</td>\n",
       "    </tr>\n",
       "    <tr>\n",
       "      <th>36</th>\n",
       "      <td>I Wanna Hold Your Hand</td>\n",
       "      <td>1978</td>\n",
       "      <td>Murray the 'K'</td>\n",
       "      <td>actor</td>\n",
       "      <td>Himself</td>\n",
       "      <td>48.0</td>\n",
       "    </tr>\n",
       "    <tr>\n",
       "      <th>37</th>\n",
       "      <td>That's the Way of the World</td>\n",
       "      <td>1975</td>\n",
       "      <td>Murray the 'K'</td>\n",
       "      <td>actor</td>\n",
       "      <td>Big John Little</td>\n",
       "      <td>22.0</td>\n",
       "    </tr>\n",
       "    <tr>\n",
       "      <th>38</th>\n",
       "      <td>Violencia urbana</td>\n",
       "      <td>1996</td>\n",
       "      <td>N?stor 'Kick Boxer'</td>\n",
       "      <td>actor</td>\n",
       "      <td>Monta?a</td>\n",
       "      <td>21.0</td>\n",
       "    </tr>\n",
       "    <tr>\n",
       "      <th>39</th>\n",
       "      <td>Nothing Like the Holidays</td>\n",
       "      <td>2008</td>\n",
       "      <td>Johnny 'Koolout' Starks</td>\n",
       "      <td>actor</td>\n",
       "      <td>Alexis' Thug</td>\n",
       "      <td>35.0</td>\n",
       "    </tr>\n",
       "    <tr>\n",
       "      <th>40</th>\n",
       "      <td>Ransum Games</td>\n",
       "      <td>2014</td>\n",
       "      <td>Johnny 'Koolout' Starks</td>\n",
       "      <td>actor</td>\n",
       "      <td>Henchman #3</td>\n",
       "      <td>6.0</td>\n",
       "    </tr>\n",
       "    <tr>\n",
       "      <th>41</th>\n",
       "      <td>Subtle Seduction</td>\n",
       "      <td>2008</td>\n",
       "      <td>Johnny 'Koolout' Starks</td>\n",
       "      <td>actor</td>\n",
       "      <td>Officer Ward</td>\n",
       "      <td>9.0</td>\n",
       "    </tr>\n",
       "    <tr>\n",
       "      <th>42</th>\n",
       "      <td>The Godfather of Green Bay</td>\n",
       "      <td>2005</td>\n",
       "      <td>Johnny 'Koolout' Starks</td>\n",
       "      <td>actor</td>\n",
       "      <td>Marcus</td>\n",
       "      <td>18.0</td>\n",
       "    </tr>\n",
       "    <tr>\n",
       "      <th>43</th>\n",
       "      <td>Using</td>\n",
       "      <td>2015</td>\n",
       "      <td>Johnny 'Koolout' Starks</td>\n",
       "      <td>actor</td>\n",
       "      <td>Randall Dawson</td>\n",
       "      <td>10.0</td>\n",
       "    </tr>\n",
       "    <tr>\n",
       "      <th>44</th>\n",
       "      <td>Krigen</td>\n",
       "      <td>2015</td>\n",
       "      <td>Christian 'Krolle' Pedersen</td>\n",
       "      <td>actor</td>\n",
       "      <td>Kenneth 'Slagter' Jensen</td>\n",
       "      <td>12.0</td>\n",
       "    </tr>\n",
       "    <tr>\n",
       "      <th>46</th>\n",
       "      <td>Violencia en la sierra</td>\n",
       "      <td>1995</td>\n",
       "      <td>Tony 'La Chispa'</td>\n",
       "      <td>actor</td>\n",
       "      <td>Victoriano</td>\n",
       "      <td>4.0</td>\n",
       "    </tr>\n",
       "    <tr>\n",
       "      <th>47</th>\n",
       "      <td>Rebecca's Window</td>\n",
       "      <td>2006</td>\n",
       "      <td>Yradier 'Lito' Tejada</td>\n",
       "      <td>actor</td>\n",
       "      <td>Sammy</td>\n",
       "      <td>4.0</td>\n",
       "    </tr>\n",
       "    <tr>\n",
       "      <th>48</th>\n",
       "      <td>In the Land of the Head Hunters</td>\n",
       "      <td>1914</td>\n",
       "      <td>Paddy 'Malid</td>\n",
       "      <td>actor</td>\n",
       "      <td>Kenada</td>\n",
       "      <td>5.0</td>\n",
       "    </tr>\n",
       "    <tr>\n",
       "      <th>50</th>\n",
       "      <td>Jenny's Wedding</td>\n",
       "      <td>2015</td>\n",
       "      <td>Hildy 'McGillicuddy' Johnson</td>\n",
       "      <td>actor</td>\n",
       "      <td>Mickey the Dog</td>\n",
       "      <td>26.0</td>\n",
       "    </tr>\n",
       "    <tr>\n",
       "      <th>...</th>\n",
       "      <td>...</td>\n",
       "      <td>...</td>\n",
       "      <td>...</td>\n",
       "      <td>...</td>\n",
       "      <td>...</td>\n",
       "      <td>...</td>\n",
       "    </tr>\n",
       "    <tr>\n",
       "      <th>3751751</th>\n",
       "      <td>Aprilkinder</td>\n",
       "      <td>1998</td>\n",
       "      <td>Idil ?ner</td>\n",
       "      <td>actress</td>\n",
       "      <td>Braut</td>\n",
       "      <td>13.0</td>\n",
       "    </tr>\n",
       "    <tr>\n",
       "      <th>3751752</th>\n",
       "      <td>Auf der anderen Seite</td>\n",
       "      <td>2007</td>\n",
       "      <td>Idil ?ner</td>\n",
       "      <td>actress</td>\n",
       "      <td>?rztin</td>\n",
       "      <td>7.0</td>\n",
       "    </tr>\n",
       "    <tr>\n",
       "      <th>3751753</th>\n",
       "      <td>Bella Martha</td>\n",
       "      <td>2001</td>\n",
       "      <td>Idil ?ner</td>\n",
       "      <td>actress</td>\n",
       "      <td>Bernadette</td>\n",
       "      <td>8.0</td>\n",
       "    </tr>\n",
       "    <tr>\n",
       "      <th>3751755</th>\n",
       "      <td>Das Geheimnis</td>\n",
       "      <td>1995</td>\n",
       "      <td>Idil ?ner</td>\n",
       "      <td>actress</td>\n",
       "      <td>Sarah</td>\n",
       "      <td>2.0</td>\n",
       "    </tr>\n",
       "    <tr>\n",
       "      <th>3751756</th>\n",
       "      <td>Dealer</td>\n",
       "      <td>1999</td>\n",
       "      <td>Idil ?ner</td>\n",
       "      <td>actress</td>\n",
       "      <td>Jale</td>\n",
       "      <td>2.0</td>\n",
       "    </tr>\n",
       "    <tr>\n",
       "      <th>3751757</th>\n",
       "      <td>Evet, ich will!</td>\n",
       "      <td>2008</td>\n",
       "      <td>Idil ?ner</td>\n",
       "      <td>actress</td>\n",
       "      <td>G?nay</td>\n",
       "      <td>8.0</td>\n",
       "    </tr>\n",
       "    <tr>\n",
       "      <th>3751758</th>\n",
       "      <td>Gegen die Wand</td>\n",
       "      <td>2004</td>\n",
       "      <td>Idil ?ner</td>\n",
       "      <td>actress</td>\n",
       "      <td>Musiker</td>\n",
       "      <td>40.0</td>\n",
       "    </tr>\n",
       "    <tr>\n",
       "      <th>3751759</th>\n",
       "      <td>Im Juli</td>\n",
       "      <td>2000</td>\n",
       "      <td>Idil ?ner</td>\n",
       "      <td>actress</td>\n",
       "      <td>Melek</td>\n",
       "      <td>4.0</td>\n",
       "    </tr>\n",
       "    <tr>\n",
       "      <th>3751760</th>\n",
       "      <td>Kurz und schmerzlos</td>\n",
       "      <td>1998</td>\n",
       "      <td>Idil ?ner</td>\n",
       "      <td>actress</td>\n",
       "      <td>Ceyda</td>\n",
       "      <td>5.0</td>\n",
       "    </tr>\n",
       "    <tr>\n",
       "      <th>3751761</th>\n",
       "      <td>Reine Formsache</td>\n",
       "      <td>2006</td>\n",
       "      <td>Idil ?ner</td>\n",
       "      <td>actress</td>\n",
       "      <td>Kristin</td>\n",
       "      <td>7.0</td>\n",
       "    </tr>\n",
       "    <tr>\n",
       "      <th>3751762</th>\n",
       "      <td>Urban Guerillas</td>\n",
       "      <td>2004</td>\n",
       "      <td>Idil ?ner</td>\n",
       "      <td>actress</td>\n",
       "      <td>Madlen</td>\n",
       "      <td>2.0</td>\n",
       "    </tr>\n",
       "    <tr>\n",
       "      <th>3751765</th>\n",
       "      <td>Iki basli dev</td>\n",
       "      <td>1990</td>\n",
       "      <td>Belkis ?nlen</td>\n",
       "      <td>actress</td>\n",
       "      <td>Laborant</td>\n",
       "      <td>19.0</td>\n",
       "    </tr>\n",
       "    <tr>\n",
       "      <th>3751766</th>\n",
       "      <td>Lollipop Monster</td>\n",
       "      <td>2011</td>\n",
       "      <td>Imge ?nl?</td>\n",
       "      <td>actress</td>\n",
       "      <td>Miriam</td>\n",
       "      <td>21.0</td>\n",
       "    </tr>\n",
       "    <tr>\n",
       "      <th>3751769</th>\n",
       "      <td>Piano Piano Bacaksiz</td>\n",
       "      <td>1991</td>\n",
       "      <td>Aysegul ?nsal</td>\n",
       "      <td>actress</td>\n",
       "      <td>Feriha</td>\n",
       "      <td>5.0</td>\n",
       "    </tr>\n",
       "    <tr>\n",
       "      <th>3751771</th>\n",
       "      <td>Vali</td>\n",
       "      <td>2009</td>\n",
       "      <td>Ayseg?l ?nsal</td>\n",
       "      <td>actress</td>\n",
       "      <td>Melek Yazici</td>\n",
       "      <td>5.0</td>\n",
       "    </tr>\n",
       "    <tr>\n",
       "      <th>3751772</th>\n",
       "      <td>Beni Unutma</td>\n",
       "      <td>2011</td>\n",
       "      <td>Tuba ?nsal</td>\n",
       "      <td>actress</td>\n",
       "      <td>Ebru</td>\n",
       "      <td>3.0</td>\n",
       "    </tr>\n",
       "    <tr>\n",
       "      <th>3751774</th>\n",
       "      <td>Plajda</td>\n",
       "      <td>2008</td>\n",
       "      <td>Tuba ?nsal</td>\n",
       "      <td>actress</td>\n",
       "      <td>Zeynep Nehir</td>\n",
       "      <td>3.0</td>\n",
       "    </tr>\n",
       "    <tr>\n",
       "      <th>3751776</th>\n",
       "      <td>Kesif</td>\n",
       "      <td>2017</td>\n",
       "      <td>Asli ?nsalan</td>\n",
       "      <td>actress</td>\n",
       "      <td>T?rkan</td>\n",
       "      <td>7.0</td>\n",
       "    </tr>\n",
       "    <tr>\n",
       "      <th>3751793</th>\n",
       "      <td>Gise Memuru</td>\n",
       "      <td>2010</td>\n",
       "      <td>Sevin? ??ok</td>\n",
       "      <td>actress</td>\n",
       "      <td>Afar Shouting Woman</td>\n",
       "      <td>18.0</td>\n",
       "    </tr>\n",
       "    <tr>\n",
       "      <th>3751795</th>\n",
       "      <td>Niceland (Population. 1.000.002)</td>\n",
       "      <td>2004</td>\n",
       "      <td>Hugr?n ?orfinnsd?ttir</td>\n",
       "      <td>actress</td>\n",
       "      <td>Diana</td>\n",
       "      <td>10.0</td>\n",
       "    </tr>\n",
       "    <tr>\n",
       "      <th>3751798</th>\n",
       "      <td>Nei er ekkert svar</td>\n",
       "      <td>1995</td>\n",
       "      <td>Gu?r?n B. ?orsteinsd?ttir</td>\n",
       "      <td>actress</td>\n",
       "      <td>Part?gestir</td>\n",
       "      <td>46.0</td>\n",
       "    </tr>\n",
       "    <tr>\n",
       "      <th>3751799</th>\n",
       "      <td>Agnes</td>\n",
       "      <td>1995</td>\n",
       "      <td>Ingibj?rg ?orsteinsd?ttir</td>\n",
       "      <td>actress</td>\n",
       "      <td>Kona</td>\n",
       "      <td>25.0</td>\n",
       "    </tr>\n",
       "    <tr>\n",
       "      <th>3751800</th>\n",
       "      <td>Beowulf &amp; Grendel</td>\n",
       "      <td>2005</td>\n",
       "      <td>Steinunn ?l?na ?orsteinsd?ttir</td>\n",
       "      <td>actress</td>\n",
       "      <td>Wealtheow</td>\n",
       "      <td>15.0</td>\n",
       "    </tr>\n",
       "    <tr>\n",
       "      <th>3751801</th>\n",
       "      <td>Dansinn</td>\n",
       "      <td>1998</td>\n",
       "      <td>Lilja Gu?r?n ?orvaldsd?ttir</td>\n",
       "      <td>actress</td>\n",
       "      <td>S?slumannafr?in</td>\n",
       "      <td>13.0</td>\n",
       "    </tr>\n",
       "    <tr>\n",
       "      <th>3751805</th>\n",
       "      <td>Niceland (Population. 1.000.002)</td>\n",
       "      <td>2004</td>\n",
       "      <td>Steinunn ?orvaldsd?ttir</td>\n",
       "      <td>actress</td>\n",
       "      <td>Factory Worker</td>\n",
       "      <td>21.0</td>\n",
       "    </tr>\n",
       "    <tr>\n",
       "      <th>3751806</th>\n",
       "      <td>Stuttur Frakki</td>\n",
       "      <td>1993</td>\n",
       "      <td>Sveinbj?rg ??rhallsd?ttir</td>\n",
       "      <td>actress</td>\n",
       "      <td>Flugfreyja</td>\n",
       "      <td>24.0</td>\n",
       "    </tr>\n",
       "    <tr>\n",
       "      <th>3751807</th>\n",
       "      <td>Foxtrot</td>\n",
       "      <td>1988</td>\n",
       "      <td>Lilja ??risd?ttir</td>\n",
       "      <td>actress</td>\n",
       "      <td>D?ra</td>\n",
       "      <td>24.0</td>\n",
       "    </tr>\n",
       "    <tr>\n",
       "      <th>3751808</th>\n",
       "      <td>Niceland (Population. 1.000.002)</td>\n",
       "      <td>2004</td>\n",
       "      <td>Sigr??ur J?na ??risd?ttir</td>\n",
       "      <td>actress</td>\n",
       "      <td>Woman in Bus</td>\n",
       "      <td>26.0</td>\n",
       "    </tr>\n",
       "    <tr>\n",
       "      <th>3751809</th>\n",
       "      <td>Skammdegi</td>\n",
       "      <td>1985</td>\n",
       "      <td>Dalla ??r?ard?ttir</td>\n",
       "      <td>actress</td>\n",
       "      <td>Hj?krunarkona</td>\n",
       "      <td>9.0</td>\n",
       "    </tr>\n",
       "    <tr>\n",
       "      <th>3751810</th>\n",
       "      <td>U.S.S.S.S...</td>\n",
       "      <td>2003</td>\n",
       "      <td>Krist?n Andrea ??r?ard?ttir</td>\n",
       "      <td>actress</td>\n",
       "      <td>Afgr.dama ? bens?nst??</td>\n",
       "      <td>17.0</td>\n",
       "    </tr>\n",
       "  </tbody>\n",
       "</table>\n",
       "<p>2305025 rows × 6 columns</p>\n",
       "</div>"
      ],
      "text/plain": [
       "                                                     title  year  \\\n",
       "0                                           Closet Monster  2015   \n",
       "1                                          Suuri illusioni  1985   \n",
       "2                                      Battle of the Sexes  2017   \n",
       "8        Lapis, Ballpen at Diploma, a True to Life Journey  2014   \n",
       "10                                 When the Man Went South  2014   \n",
       "11                                 Little Angel (Angelita)  2015   \n",
       "16                                         My Song for You  2010   \n",
       "17                                         My Song for You  2010   \n",
       "19                                    Mariano Mison... NBI  1997   \n",
       "25                                       Pelotazo nacional  1993   \n",
       "26                                            Los tarantos  1963   \n",
       "27                                             De la calle  2001   \n",
       "28                                            Los tarantos  1963   \n",
       "29                                 They Want Dick Dickster  2015   \n",
       "30                                        Mahogany Sunrise  2014   \n",
       "31                                                 Wakolda  2013   \n",
       "32                                          Killing Device  1993   \n",
       "36                                  I Wanna Hold Your Hand  1978   \n",
       "37                             That's the Way of the World  1975   \n",
       "38                                        Violencia urbana  1996   \n",
       "39                               Nothing Like the Holidays  2008   \n",
       "40                                            Ransum Games  2014   \n",
       "41                                        Subtle Seduction  2008   \n",
       "42                              The Godfather of Green Bay  2005   \n",
       "43                                                   Using  2015   \n",
       "44                                                  Krigen  2015   \n",
       "46                                  Violencia en la sierra  1995   \n",
       "47                                        Rebecca's Window  2006   \n",
       "48                         In the Land of the Head Hunters  1914   \n",
       "50                                         Jenny's Wedding  2015   \n",
       "...                                                    ...   ...   \n",
       "3751751                                        Aprilkinder  1998   \n",
       "3751752                              Auf der anderen Seite  2007   \n",
       "3751753                                       Bella Martha  2001   \n",
       "3751755                                      Das Geheimnis  1995   \n",
       "3751756                                             Dealer  1999   \n",
       "3751757                                    Evet, ich will!  2008   \n",
       "3751758                                     Gegen die Wand  2004   \n",
       "3751759                                            Im Juli  2000   \n",
       "3751760                                Kurz und schmerzlos  1998   \n",
       "3751761                                    Reine Formsache  2006   \n",
       "3751762                                    Urban Guerillas  2004   \n",
       "3751765                                      Iki basli dev  1990   \n",
       "3751766                                   Lollipop Monster  2011   \n",
       "3751769                               Piano Piano Bacaksiz  1991   \n",
       "3751771                                               Vali  2009   \n",
       "3751772                                        Beni Unutma  2011   \n",
       "3751774                                             Plajda  2008   \n",
       "3751776                                              Kesif  2017   \n",
       "3751793                                        Gise Memuru  2010   \n",
       "3751795                   Niceland (Population. 1.000.002)  2004   \n",
       "3751798                                 Nei er ekkert svar  1995   \n",
       "3751799                                              Agnes  1995   \n",
       "3751800                                  Beowulf & Grendel  2005   \n",
       "3751801                                            Dansinn  1998   \n",
       "3751805                   Niceland (Population. 1.000.002)  2004   \n",
       "3751806                                     Stuttur Frakki  1993   \n",
       "3751807                                            Foxtrot  1988   \n",
       "3751808                   Niceland (Population. 1.000.002)  2004   \n",
       "3751809                                          Skammdegi  1985   \n",
       "3751810                                       U.S.S.S.S...  2003   \n",
       "\n",
       "                                   name     type  \\\n",
       "0                              Buffy #1    actor   \n",
       "1                                Homo $    actor   \n",
       "2                               $hutter    actor   \n",
       "8             Jori ' Danilo' Jurado Jr.    actor   \n",
       "10                   Taipaleti 'Atu'ake    actor   \n",
       "11           Michael 'babeepower' Viera    actor   \n",
       "16               George 'Bootsy' Thomas    actor   \n",
       "17               George 'Bootsy' Thomas    actor   \n",
       "19                  Joseph 'Byron' Sese    actor   \n",
       "25                      F?lix 'El Gato'    actor   \n",
       "26                           'El Guisa'    actor   \n",
       "27                      Luis 'El Plojo'    actor   \n",
       "28                            'El Viti'    actor   \n",
       "29                   Zhavier' (II) 'Fox    actor   \n",
       "30        Gilberto 'Ghetto Bird' Bahena    actor   \n",
       "31                 Marcelo 'Hos' Bearzi    actor   \n",
       "32                  Van 'Igor' Morrison    actor   \n",
       "36                       Murray the 'K'    actor   \n",
       "37                       Murray the 'K'    actor   \n",
       "38                  N?stor 'Kick Boxer'    actor   \n",
       "39              Johnny 'Koolout' Starks    actor   \n",
       "40              Johnny 'Koolout' Starks    actor   \n",
       "41              Johnny 'Koolout' Starks    actor   \n",
       "42              Johnny 'Koolout' Starks    actor   \n",
       "43              Johnny 'Koolout' Starks    actor   \n",
       "44          Christian 'Krolle' Pedersen    actor   \n",
       "46                     Tony 'La Chispa'    actor   \n",
       "47                Yradier 'Lito' Tejada    actor   \n",
       "48                         Paddy 'Malid    actor   \n",
       "50         Hildy 'McGillicuddy' Johnson    actor   \n",
       "...                                 ...      ...   \n",
       "3751751                       Idil ?ner  actress   \n",
       "3751752                       Idil ?ner  actress   \n",
       "3751753                       Idil ?ner  actress   \n",
       "3751755                       Idil ?ner  actress   \n",
       "3751756                       Idil ?ner  actress   \n",
       "3751757                       Idil ?ner  actress   \n",
       "3751758                       Idil ?ner  actress   \n",
       "3751759                       Idil ?ner  actress   \n",
       "3751760                       Idil ?ner  actress   \n",
       "3751761                       Idil ?ner  actress   \n",
       "3751762                       Idil ?ner  actress   \n",
       "3751765                    Belkis ?nlen  actress   \n",
       "3751766                       Imge ?nl?  actress   \n",
       "3751769                   Aysegul ?nsal  actress   \n",
       "3751771                   Ayseg?l ?nsal  actress   \n",
       "3751772                      Tuba ?nsal  actress   \n",
       "3751774                      Tuba ?nsal  actress   \n",
       "3751776                    Asli ?nsalan  actress   \n",
       "3751793                     Sevin? ??ok  actress   \n",
       "3751795           Hugr?n ?orfinnsd?ttir  actress   \n",
       "3751798       Gu?r?n B. ?orsteinsd?ttir  actress   \n",
       "3751799       Ingibj?rg ?orsteinsd?ttir  actress   \n",
       "3751800  Steinunn ?l?na ?orsteinsd?ttir  actress   \n",
       "3751801     Lilja Gu?r?n ?orvaldsd?ttir  actress   \n",
       "3751805         Steinunn ?orvaldsd?ttir  actress   \n",
       "3751806       Sveinbj?rg ??rhallsd?ttir  actress   \n",
       "3751807               Lilja ??risd?ttir  actress   \n",
       "3751808       Sigr??ur J?na ??risd?ttir  actress   \n",
       "3751809              Dalla ??r?ard?ttir  actress   \n",
       "3751810     Krist?n Andrea ??r?ard?ttir  actress   \n",
       "\n",
       "                            character     n  \n",
       "0                             Buffy 4  31.0  \n",
       "1                              Guests  22.0  \n",
       "2                     Bobby Riggs Fan  10.0  \n",
       "8                       Jaime (young)   9.0  \n",
       "10             Two Palms - Ua'i Paame   8.0  \n",
       "11                              Chico   9.0  \n",
       "16                  Cooley's Customer  16.0  \n",
       "17                  Celebration Guest  16.0  \n",
       "19                        Putik's Son  31.0  \n",
       "25                          Rebolledo  12.0  \n",
       "26                            Bailaor  25.0  \n",
       "27       Froil?n plaza del estudiante  80.0  \n",
       "28                            Cantaor  20.0  \n",
       "29                  Dr. Shrinkalotsky  25.0  \n",
       "30                              Jesse  21.0  \n",
       "31               Due?o de la hoster?a  19.0  \n",
       "32                        Jeep Driver  51.0  \n",
       "36                            Himself  48.0  \n",
       "37                    Big John Little  22.0  \n",
       "38                            Monta?a  21.0  \n",
       "39                       Alexis' Thug  35.0  \n",
       "40                        Henchman #3   6.0  \n",
       "41                       Officer Ward   9.0  \n",
       "42                             Marcus  18.0  \n",
       "43                     Randall Dawson  10.0  \n",
       "44           Kenneth 'Slagter' Jensen  12.0  \n",
       "46                         Victoriano   4.0  \n",
       "47                              Sammy   4.0  \n",
       "48                             Kenada   5.0  \n",
       "50                     Mickey the Dog  26.0  \n",
       "...                               ...   ...  \n",
       "3751751                         Braut  13.0  \n",
       "3751752                        ?rztin   7.0  \n",
       "3751753                    Bernadette   8.0  \n",
       "3751755                         Sarah   2.0  \n",
       "3751756                          Jale   2.0  \n",
       "3751757                         G?nay   8.0  \n",
       "3751758                       Musiker  40.0  \n",
       "3751759                         Melek   4.0  \n",
       "3751760                         Ceyda   5.0  \n",
       "3751761                       Kristin   7.0  \n",
       "3751762                        Madlen   2.0  \n",
       "3751765                      Laborant  19.0  \n",
       "3751766                        Miriam  21.0  \n",
       "3751769                        Feriha   5.0  \n",
       "3751771                  Melek Yazici   5.0  \n",
       "3751772                          Ebru   3.0  \n",
       "3751774                  Zeynep Nehir   3.0  \n",
       "3751776                        T?rkan   7.0  \n",
       "3751793           Afar Shouting Woman  18.0  \n",
       "3751795                         Diana  10.0  \n",
       "3751798                   Part?gestir  46.0  \n",
       "3751799                          Kona  25.0  \n",
       "3751800                     Wealtheow  15.0  \n",
       "3751801               S?slumannafr?in  13.0  \n",
       "3751805                Factory Worker  21.0  \n",
       "3751806                    Flugfreyja  24.0  \n",
       "3751807                          D?ra  24.0  \n",
       "3751808                  Woman in Bus  26.0  \n",
       "3751809                 Hj?krunarkona   9.0  \n",
       "3751810        Afgr.dama ? bens?nst??  17.0  \n",
       "\n",
       "[2305025 rows x 6 columns]"
      ]
     },
     "execution_count": 40,
     "metadata": {},
     "output_type": "execute_result"
    }
   ],
   "source": [
    "h=h[h.n.notnull()]\n",
    "h"
   ]
  },
  {
   "cell_type": "code",
   "execution_count": 42,
   "metadata": {
    "collapsed": false,
    "scrolled": true
   },
   "outputs": [
    {
     "data": {
      "text/plain": [
       "0          14\n",
       "1          15\n",
       "2          19\n",
       "8          49\n",
       "10         23\n",
       "11         23\n",
       "16         15\n",
       "17         15\n",
       "19         20\n",
       "25         17\n",
       "26         12\n",
       "27         11\n",
       "28         12\n",
       "29         23\n",
       "30         16\n",
       "31          7\n",
       "32         14\n",
       "36         22\n",
       "37         27\n",
       "38         16\n",
       "39         25\n",
       "40         12\n",
       "41         16\n",
       "42         26\n",
       "43          5\n",
       "44          6\n",
       "46         22\n",
       "47         16\n",
       "48         31\n",
       "50         15\n",
       "           ..\n",
       "3751751    11\n",
       "3751752    21\n",
       "3751753    12\n",
       "3751755    13\n",
       "3751756     6\n",
       "3751757    15\n",
       "3751758    14\n",
       "3751759     7\n",
       "3751760    19\n",
       "3751761    15\n",
       "3751762    15\n",
       "3751765    13\n",
       "3751766    16\n",
       "3751769    20\n",
       "3751771     4\n",
       "3751772    11\n",
       "3751774     6\n",
       "3751776     5\n",
       "3751793    11\n",
       "3751795    32\n",
       "3751798    18\n",
       "3751799     5\n",
       "3751800    17\n",
       "3751801     7\n",
       "3751805    32\n",
       "3751806    14\n",
       "3751807     7\n",
       "3751808    32\n",
       "3751809     9\n",
       "3751810    12\n",
       "Name: title, dtype: int64"
      ]
     },
     "execution_count": 42,
     "metadata": {},
     "output_type": "execute_result"
    }
   ],
   "source": [
    "h.title.str.len()"
   ]
  },
  {
   "cell_type": "code",
   "execution_count": 41,
   "metadata": {
    "collapsed": true
   },
   "outputs": [],
   "source": [
    "c=titles\n",
    "c[c.title == \"Hamlet\"]"
   ]
  },
  {
   "cell_type": "code",
   "execution_count": 50,
   "metadata": {
    "collapsed": false
   },
   "outputs": [
    {
     "data": {
      "text/plain": [
       "<matplotlib.axes._subplots.AxesSubplot at 0x11358a550>"
      ]
     },
     "execution_count": 50,
     "metadata": {},
     "output_type": "execute_result"
    },
    {
     "data": {
      "image/png": "[encoded data removed]",
      "text/plain": [
       "<matplotlib.figure.Figure at 0x113594a90>"
      ]
     },
     "metadata": {},
     "output_type": "display_data"
    }
   ],
   "source": [
    "titles.year.value_counts().sort_index().plot()"
   ]
  },
  {
   "cell_type": "code",
   "execution_count": 55,
   "metadata": {
    "collapsed": false
   },
   "outputs": [
    {
     "data": {
      "text/plain": [
       "<matplotlib.axes._subplots.AxesSubplot at 0x11357cc50>"
      ]
     },
     "execution_count": 55,
     "metadata": {},
     "output_type": "execute_result"
    },
    {
     "data": {
      "image/png": "[encoded data removed]",
      "text/plain": [
       "<matplotlib.figure.Figure at 0x112c21150>"
      ]
     },
     "metadata": {},
     "output_type": "display_data"
    }
   ],
   "source": [
    "c=cast\n",
    "c=c[c.character == \"Kermit the Frog\"]\n",
    "c.plot(x=\"year\",y=\"n\",kind=\"scatter\")"
   ]
  },
  {
   "cell_type": "code",
   "execution_count": 56,
   "metadata": {
    "collapsed": false
   },
   "outputs": [
    {
     "data": {
      "text/html": [
       "<div>\n",
       "<table border=\"1\" class=\"dataframe\">\n",
       "  <thead>\n",
       "    <tr style=\"text-align: right;\">\n",
       "      <th></th>\n",
       "      <th>title</th>\n",
       "      <th>n</th>\n",
       "    </tr>\n",
       "  </thead>\n",
       "  <tbody>\n",
       "    <tr>\n",
       "      <th>982581</th>\n",
       "      <td>An American Werewolf in London</td>\n",
       "      <td>18.0</td>\n",
       "    </tr>\n",
       "    <tr>\n",
       "      <th>982582</th>\n",
       "      <td>Follow That Bird</td>\n",
       "      <td>2.0</td>\n",
       "    </tr>\n",
       "    <tr>\n",
       "      <th>982587</th>\n",
       "      <td>The Great Muppet Caper</td>\n",
       "      <td>1.0</td>\n",
       "    </tr>\n",
       "    <tr>\n",
       "      <th>982595</th>\n",
       "      <td>The Muppet Movie</td>\n",
       "      <td>1.0</td>\n",
       "    </tr>\n",
       "    <tr>\n",
       "      <th>982602</th>\n",
       "      <td>The Muppets Take Manhattan</td>\n",
       "      <td>1.0</td>\n",
       "    </tr>\n",
       "    <tr>\n",
       "      <th>2437682</th>\n",
       "      <td>Mr. Magorium's Wonder Emporium</td>\n",
       "      <td>8.0</td>\n",
       "    </tr>\n",
       "    <tr>\n",
       "      <th>2437683</th>\n",
       "      <td>Muppet Treasure Island</td>\n",
       "      <td>10.0</td>\n",
       "    </tr>\n",
       "    <tr>\n",
       "      <th>2437686</th>\n",
       "      <td>Muppets from Space</td>\n",
       "      <td>2.0</td>\n",
       "    </tr>\n",
       "    <tr>\n",
       "      <th>2437692</th>\n",
       "      <td>Muppets Most Wanted</td>\n",
       "      <td>4.0</td>\n",
       "    </tr>\n",
       "  </tbody>\n",
       "</table>\n",
       "</div>"
      ],
      "text/plain": [
       "                                  title     n\n",
       "982581   An American Werewolf in London  18.0\n",
       "982582                 Follow That Bird   2.0\n",
       "982587           The Great Muppet Caper   1.0\n",
       "982595                 The Muppet Movie   1.0\n",
       "982602       The Muppets Take Manhattan   1.0\n",
       "2437682  Mr. Magorium's Wonder Emporium   8.0\n",
       "2437683          Muppet Treasure Island  10.0\n",
       "2437686              Muppets from Space   2.0\n",
       "2437692             Muppets Most Wanted   4.0"
      ]
     },
     "execution_count": 56,
     "metadata": {},
     "output_type": "execute_result"
    }
   ],
   "source": [
    "c[[\"title\",\"n\"]]"
   ]
  },
  {
   "cell_type": "code",
   "execution_count": null,
   "metadata": {
    "collapsed": true
   },
   "outputs": [],
   "source": []
  }
 ],
 "metadata": {
  "kernelspec": {
   "display_name": "Python 2",
   "language": "python",
   "name": "python2"
  },
  "language_info": {
   "codemirror_mode": {
    "name": "ipython",
    "version": 2
   },
   "file_extension": ".py",
   "mimetype": "text/x-python",
   "name": "python",
   "nbconvert_exporter": "python",
   "pygments_lexer": "ipython2",
   "version": "2.7.13"
  }
 },
 "nbformat": 4,
 "nbformat_minor": 0
}

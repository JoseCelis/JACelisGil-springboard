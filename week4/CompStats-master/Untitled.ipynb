{
 "cells": [
  {
   "cell_type": "code",
   "execution_count": 1,
   "metadata": {
    "collapsed": true
   },
   "outputs": [],
   "source": [
    "from joblib import Parallel, delayed\n",
    "from os import getpid"
   ]
  },
  {
   "cell_type": "code",
   "execution_count": 30,
   "metadata": {
    "collapsed": true
   },
   "outputs": [],
   "source": [
    "def modfib(n):\n",
    "    a = []\n",
    "    # print the process id to see that multiple processes are used, and\n",
    "    # re-used during the job.\n",
    "    for i in range(3,12):\n",
    "        x=i+n\n",
    "        a.append([i,n,x])\n",
    "        print i,\"\\t\",n,\"\\t\",x\n",
    "    return a"
   ]
  },
  {
   "cell_type": "code",
   "execution_count": 38,
   "metadata": {
    "collapsed": false
   },
   "outputs": [
    {
     "name": "stdout",
     "output_type": "stream",
     "text": [
      "3 \t0.1 \t3.1\n",
      "3 \t0.3 \t3.3\n",
      "4 \t0.1 \t4.1\n",
      "5 \t0.1 \t5.1\n",
      "4 \t0.3 \t4.3\n",
      "5 \t0.3 \t5.3\n",
      "6 \t0.1 \t6.1\n",
      "7 \t0.1 \t7.1\n",
      "6 \t0.3 \t6.3\n",
      "8 \t0.1 \t8.1\n",
      "9 \t0.1 \t9.1\n",
      "10 \t0.1 \t10.1\n",
      "11 \t0.1 \t11.1\n",
      "7 \t0.3 \t7.3\n",
      "8 \t0.3 \t8.3\n",
      "9 \t0.3 \t9.3\n",
      "10 \t0.3 \t10.3\n",
      "11 \t0.3 \t11.3\n",
      "3 \t0.5 \t3.5\n",
      "4 \t0.5 \t4.5\n",
      "3 \t0.9 \t3.9\n",
      "4 \t0.9 \t4.9\n",
      "5 \t0.9 \t5.9\n",
      "6 \t0.9 \t6.9\n",
      "7 \t0.9 \t7.9\n",
      "5 \t0.5 \t5.5\n",
      "6 \t0.5 \t6.5\n",
      "8 \t0.9 \t8.9\n",
      "9 \t0.9 \t9.9\n",
      "10 \t0.9 \t10.9\n",
      "7 \t0.5 \t7.5\n",
      "8 \t0.5 \t8.5\n",
      "9 \t0.5 \t9.5\n",
      "11 \t0.9 \t11.9\n",
      "10 \t0.5 \t10.5\n",
      "11 \t0.5 \t11.5\n"
     ]
    },
    {
     "name": "stderr",
     "output_type": "stream",
     "text": [
      "[Parallel(n_jobs=-1)]: Done   2 out of   4 | elapsed:    0.2s remaining:    0.2s\n",
      "[Parallel(n_jobs=-1)]: Done   4 out of   4 | elapsed:    0.3s remaining:    0.0s\n",
      "[Parallel(n_jobs=-1)]: Done   4 out of   4 | elapsed:    0.3s finished\n"
     ]
    }
   ],
   "source": [
    "a=Parallel(n_jobs=-1,verbose=5)(delayed(modfib)(j) for j in [0.1,0.3,0.5,0.9])"
   ]
  },
  {
   "cell_type": "code",
   "execution_count": 39,
   "metadata": {
    "collapsed": false
   },
   "outputs": [
    {
     "data": {
      "text/plain": [
       "[[[3, 0.1, 3.1],\n",
       "  [4, 0.1, 4.1],\n",
       "  [5, 0.1, 5.1],\n",
       "  [6, 0.1, 6.1],\n",
       "  [7, 0.1, 7.1],\n",
       "  [8, 0.1, 8.1],\n",
       "  [9, 0.1, 9.1],\n",
       "  [10, 0.1, 10.1],\n",
       "  [11, 0.1, 11.1]],\n",
       " [[3, 0.3, 3.3],\n",
       "  [4, 0.3, 4.3],\n",
       "  [5, 0.3, 5.3],\n",
       "  [6, 0.3, 6.3],\n",
       "  [7, 0.3, 7.3],\n",
       "  [8, 0.3, 8.3],\n",
       "  [9, 0.3, 9.3],\n",
       "  [10, 0.3, 10.3],\n",
       "  [11, 0.3, 11.3]],\n",
       " [[3, 0.5, 3.5],\n",
       "  [4, 0.5, 4.5],\n",
       "  [5, 0.5, 5.5],\n",
       "  [6, 0.5, 6.5],\n",
       "  [7, 0.5, 7.5],\n",
       "  [8, 0.5, 8.5],\n",
       "  [9, 0.5, 9.5],\n",
       "  [10, 0.5, 10.5],\n",
       "  [11, 0.5, 11.5]],\n",
       " [[3, 0.9, 3.9],\n",
       "  [4, 0.9, 4.9],\n",
       "  [5, 0.9, 5.9],\n",
       "  [6, 0.9, 6.9],\n",
       "  [7, 0.9, 7.9],\n",
       "  [8, 0.9, 8.9],\n",
       "  [9, 0.9, 9.9],\n",
       "  [10, 0.9, 10.9],\n",
       "  [11, 0.9, 11.9]]]"
      ]
     },
     "execution_count": 39,
     "metadata": {},
     "output_type": "execute_result"
    }
   ],
   "source": [
    "a"
   ]
  },
  {
   "cell_type": "code",
   "execution_count": null,
   "metadata": {
    "collapsed": true
   },
   "outputs": [],
   "source": []
  }
 ],
 "metadata": {
  "kernelspec": {
   "display_name": "Python 2",
   "language": "python",
   "name": "python2"
  },
  "language_info": {
   "codemirror_mode": {
    "name": "ipython",
    "version": 2
   },
   "file_extension": ".py",
   "mimetype": "text/x-python",
   "name": "python",
   "nbconvert_exporter": "python",
   "pygments_lexer": "ipython2",
   "version": "2.7.13"
  }
 },
 "nbformat": 4,
 "nbformat_minor": 2
}
